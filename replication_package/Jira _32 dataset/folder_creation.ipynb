{
 "cells": [
  {
   "cell_type": "code",
   "execution_count": 8,
   "id": "5a0aa84f",
   "metadata": {},
   "outputs": [
    {
     "data": {
      "text/plain": [
       "['/Users/saumenduroy/Desktop/TOSEM_replicationpackage/data_jira/activemq-5.2.0.csv',\n",
       " '/Users/saumenduroy/Desktop/TOSEM_replicationpackage/data_jira/derby-10.5.1.1.csv',\n",
       " '/Users/saumenduroy/Desktop/TOSEM_replicationpackage/data_jira/hive-0.9.0.csv',\n",
       " '/Users/saumenduroy/Desktop/TOSEM_replicationpackage/data_jira/activemq-5.0.0.csv',\n",
       " '/Users/saumenduroy/Desktop/TOSEM_replicationpackage/data_jira/jruby-1.4.0.csv',\n",
       " '/Users/saumenduroy/Desktop/TOSEM_replicationpackage/data_jira/hbase-0.94.0.csv',\n",
       " '/Users/saumenduroy/Desktop/TOSEM_replicationpackage/data_jira/camel-2.11.0.csv',\n",
       " '/Users/saumenduroy/Desktop/TOSEM_replicationpackage/data_jira/jruby-1.1.csv',\n",
       " '/Users/saumenduroy/Desktop/TOSEM_replicationpackage/data_jira/jruby-1.7.0.preview1.csv',\n",
       " '/Users/saumenduroy/Desktop/TOSEM_replicationpackage/data_jira/activemq-5.1.0.csv',\n",
       " '/Users/saumenduroy/Desktop/TOSEM_replicationpackage/data_jira/lucene-2.9.0.csv',\n",
       " '/Users/saumenduroy/Desktop/TOSEM_replicationpackage/data_jira/activemq-5.3.0.csv',\n",
       " '/Users/saumenduroy/Desktop/TOSEM_replicationpackage/data_jira/camel-2.9.0.csv',\n",
       " '/Users/saumenduroy/Desktop/TOSEM_replicationpackage/data_jira/hbase-0.95.0.csv',\n",
       " '/Users/saumenduroy/Desktop/TOSEM_replicationpackage/data_jira/camel-2.10.0.csv',\n",
       " '/Users/saumenduroy/Desktop/TOSEM_replicationpackage/data_jira/lucene-3.1.csv',\n",
       " '/Users/saumenduroy/Desktop/TOSEM_replicationpackage/data_jira/jruby-1.5.0.csv',\n",
       " '/Users/saumenduroy/Desktop/TOSEM_replicationpackage/data_jira/hbase-0.95.2.csv',\n",
       " '/Users/saumenduroy/Desktop/TOSEM_replicationpackage/data_jira/wicket-1.3.0-incubating-beta-1.csv',\n",
       " '/Users/saumenduroy/Desktop/TOSEM_replicationpackage/data_jira/groovy-1_5_7.csv',\n",
       " '/Users/saumenduroy/Desktop/TOSEM_replicationpackage/data_jira/groovy-1_6_BETA_2.csv',\n",
       " '/Users/saumenduroy/Desktop/TOSEM_replicationpackage/data_jira/derby-10.3.1.4.csv',\n",
       " '/Users/saumenduroy/Desktop/TOSEM_replicationpackage/data_jira/groovy-1_6_BETA_1.csv',\n",
       " '/Users/saumenduroy/Desktop/TOSEM_replicationpackage/data_jira/lucene-2.3.0.csv',\n",
       " '/Users/saumenduroy/Desktop/TOSEM_replicationpackage/data_jira/wicket-1.3.0-beta2.csv',\n",
       " '/Users/saumenduroy/Desktop/TOSEM_replicationpackage/data_jira/camel-1.4.0.csv',\n",
       " '/Users/saumenduroy/Desktop/TOSEM_replicationpackage/data_jira/derby-10.2.1.6.csv',\n",
       " '/Users/saumenduroy/Desktop/TOSEM_replicationpackage/data_jira/wicket-1.5.3.csv',\n",
       " '/Users/saumenduroy/Desktop/TOSEM_replicationpackage/data_jira/activemq-5.8.0.csv',\n",
       " '/Users/saumenduroy/Desktop/TOSEM_replicationpackage/data_jira/hive-0.10.0.csv',\n",
       " '/Users/saumenduroy/Desktop/TOSEM_replicationpackage/data_jira/lucene-3.0.0.csv',\n",
       " '/Users/saumenduroy/Desktop/TOSEM_replicationpackage/data_jira/hive-0.12.0.csv']"
      ]
     },
     "execution_count": 8,
     "metadata": {},
     "output_type": "execute_result"
    }
   ],
   "source": [
    "import os\n",
    "\n",
    "from glob import glob\n",
    "\n",
    "# f = glob(\"data_jira/*.csv\")\n",
    "f = glob(\"/Users/saumenduroy/Desktop/TOSEM_replicationpackage/data_jira/*.csv\")\n",
    "f"
   ]
  },
  {
   "cell_type": "code",
   "execution_count": 7,
   "id": "805729e4",
   "metadata": {},
   "outputs": [],
   "source": [
    "for file in f:\n",
    "    f_name = file.split(\"/\")[-1].replace(\".csv\", \"\")\n",
    "    t_dir = \"buggy_testing/\"+f_name\n",
    "    os.makedirs(t_dir)\n",
    "    os.makedirs(t_dir+\"/k=3\")\n",
    "    os.makedirs(t_dir+\"/k=5\")\n",
    "    os.makedirs(t_dir+\"/k=7\")\n",
    "    os.makedirs(t_dir+\"/k=10\")"
   ]
  },
  {
   "cell_type": "code",
   "execution_count": null,
   "id": "f2f6cda9",
   "metadata": {},
   "outputs": [],
   "source": []
  }
 ],
 "metadata": {
  "kernelspec": {
   "display_name": "Python 3 (ipykernel)",
   "language": "python",
   "name": "python3"
  },
  "language_info": {
   "codemirror_mode": {
    "name": "ipython",
    "version": 3
   },
   "file_extension": ".py",
   "mimetype": "text/x-python",
   "name": "python",
   "nbconvert_exporter": "python",
   "pygments_lexer": "ipython3",
   "version": "3.9.7"
  }
 },
 "nbformat": 4,
 "nbformat_minor": 5
}
