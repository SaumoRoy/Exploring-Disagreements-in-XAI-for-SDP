{
 "cells": [
  {
   "cell_type": "markdown",
   "id": "da61d3a8",
   "metadata": {},
   "source": [
    "## Import libraries"
   ]
  },
  {
   "cell_type": "code",
   "execution_count": 1,
   "id": "418ae83a",
   "metadata": {},
   "outputs": [],
   "source": [
    "import numpy as np\n",
    "import pandas as pd\n",
    "import shap\n",
    "import lime\n",
    "import os\n",
    "import pickle\n",
    "\n",
    "\n",
    "from sklearn.ensemble import RandomForestClassifier\n",
    "from sklearn.tree import DecisionTreeClassifier\n",
    "from sklearn.linear_model import LogisticRegression\n",
    "from sklearn.neural_network import MLPClassifier\n",
    "from xgboost import XGBClassifier\n",
    "from sklearn import svm\n",
    "\n",
    "from sklearn import tree\n",
    "import xgboost as xgb\n",
    "from sklearn.datasets import make_regression\n",
    "import sklearn.metrics as metrics\n",
    "from sklearn.metrics import confusion_matrix\n",
    "from sklearn.metrics import precision_score, recall_score, f1_score, accuracy_score\n",
    "from sklearn.preprocessing import StandardScaler\n",
    "\n",
    "from sklearn.model_selection import train_test_split\n",
    "from sklearn.model_selection import cross_val_score\n",
    "\n",
    "\n",
    "import matplotlib.pyplot as plt"
   ]
  },
  {
   "cell_type": "markdown",
   "id": "4e346c8f",
   "metadata": {},
   "source": [
    "## Dataset Importing"
   ]
  },
  {
   "cell_type": "code",
   "execution_count": 2,
   "id": "1cef3bc5",
   "metadata": {},
   "outputs": [],
   "source": [
    "df = pd.read_csv('/Users/saumenduroy/Documents/PhD Life/Explainability + SOAR/Explainers code/JM1_Single dataset and single file/Data/jm1.csv')\n",
    "obj_list = df.columns[df.dtypes == 'object'].values.tolist()\n",
    "for l in obj_list:\n",
    "    df[l] = pd.to_numeric(df[l], errors='coerce')\n",
    "df[\"defects\"] = df[\"defects\"].astype(int)\n",
    "df.dropna(inplace=True)"
   ]
  },
  {
   "cell_type": "markdown",
   "id": "5fd8a556",
   "metadata": {},
   "source": [
    "## Select a specific row or column from the dataset and dataset splitting"
   ]
  },
  {
   "cell_type": "code",
   "execution_count": 3,
   "id": "88853fe6",
   "metadata": {},
   "outputs": [],
   "source": [
    "X = df.iloc[:, :-1]\n",
    "y = df.iloc[:, -1] \n",
    "\n",
    "X_train, X_test, y_train, y_test = train_test_split(X, y, test_size=0.3, random_state=42)"
   ]
  },
  {
   "cell_type": "markdown",
   "id": "2ccd18ea",
   "metadata": {},
   "source": [
    "## Dataset Balancing"
   ]
  },
  {
   "cell_type": "code",
   "execution_count": 1158,
   "id": "81f12468",
   "metadata": {},
   "outputs": [],
   "source": [
    "## from imblearn.over_sampling import RandomOverSampler"
   ]
  },
  {
   "cell_type": "code",
   "execution_count": 1159,
   "id": "051eb525",
   "metadata": {},
   "outputs": [],
   "source": [
    "## from collections import Counter\n",
    "## oversample =  RandomOverSampler()\n",
    "##X_train,y_train = oversample.fit_resample(X_train,y_train)"
   ]
  },
  {
   "cell_type": "code",
   "execution_count": 1160,
   "id": "8b7b0507",
   "metadata": {},
   "outputs": [],
   "source": [
    "#Counter(y_train)"
   ]
  },
  {
   "cell_type": "code",
   "execution_count": 1161,
   "id": "db4cd15e",
   "metadata": {},
   "outputs": [],
   "source": [
    "#Counter(y_test)"
   ]
  },
  {
   "cell_type": "code",
   "execution_count": 4,
   "id": "c7245370",
   "metadata": {},
   "outputs": [
    {
     "name": "stdout",
     "output_type": "stream",
     "text": [
      "X_Train shape:  (7616, 21)\n",
      "Train label shape:  (7616,)\n",
      "X_Test shape:  (3264, 21)\n",
      "Test label shape:  (3264,)\n"
     ]
    }
   ],
   "source": [
    "print(\"X_Train shape: \", X_train.shape)\n",
    "print(\"Train label shape: \", y_train.shape)\n",
    "print(\"X_Test shape: \", X_test.shape)\n",
    "print(\"Test label shape: \", y_test.shape)"
   ]
  },
  {
   "cell_type": "code",
   "execution_count": 5,
   "id": "1c2f65bd",
   "metadata": {},
   "outputs": [
    {
     "data": {
      "text/html": [
       "<div>\n",
       "<style scoped>\n",
       "    .dataframe tbody tr th:only-of-type {\n",
       "        vertical-align: middle;\n",
       "    }\n",
       "\n",
       "    .dataframe tbody tr th {\n",
       "        vertical-align: top;\n",
       "    }\n",
       "\n",
       "    .dataframe thead th {\n",
       "        text-align: right;\n",
       "    }\n",
       "</style>\n",
       "<table border=\"1\" class=\"dataframe\">\n",
       "  <thead>\n",
       "    <tr style=\"text-align: right;\">\n",
       "      <th></th>\n",
       "      <th>loc</th>\n",
       "      <th>v(g)</th>\n",
       "      <th>ev(g)</th>\n",
       "      <th>iv(g)</th>\n",
       "      <th>n</th>\n",
       "      <th>v</th>\n",
       "      <th>l</th>\n",
       "      <th>d</th>\n",
       "      <th>i</th>\n",
       "      <th>e</th>\n",
       "      <th>...</th>\n",
       "      <th>t</th>\n",
       "      <th>lOCode</th>\n",
       "      <th>lOComment</th>\n",
       "      <th>lOBlank</th>\n",
       "      <th>locCodeAndComment</th>\n",
       "      <th>uniq_Op</th>\n",
       "      <th>uniq_Opnd</th>\n",
       "      <th>total_Op</th>\n",
       "      <th>total_Opnd</th>\n",
       "      <th>branchCount</th>\n",
       "    </tr>\n",
       "  </thead>\n",
       "  <tbody>\n",
       "    <tr>\n",
       "      <th>4029</th>\n",
       "      <td>4.0</td>\n",
       "      <td>1.0</td>\n",
       "      <td>1.0</td>\n",
       "      <td>1.0</td>\n",
       "      <td>5.0</td>\n",
       "      <td>11.61</td>\n",
       "      <td>0.67</td>\n",
       "      <td>1.50</td>\n",
       "      <td>7.74</td>\n",
       "      <td>17.41</td>\n",
       "      <td>...</td>\n",
       "      <td>0.97</td>\n",
       "      <td>2</td>\n",
       "      <td>0</td>\n",
       "      <td>0</td>\n",
       "      <td>0</td>\n",
       "      <td>3.0</td>\n",
       "      <td>2.0</td>\n",
       "      <td>3.0</td>\n",
       "      <td>2.0</td>\n",
       "      <td>1.0</td>\n",
       "    </tr>\n",
       "    <tr>\n",
       "      <th>3671</th>\n",
       "      <td>7.0</td>\n",
       "      <td>1.0</td>\n",
       "      <td>1.0</td>\n",
       "      <td>1.0</td>\n",
       "      <td>23.0</td>\n",
       "      <td>89.86</td>\n",
       "      <td>0.30</td>\n",
       "      <td>3.33</td>\n",
       "      <td>26.96</td>\n",
       "      <td>299.53</td>\n",
       "      <td>...</td>\n",
       "      <td>16.64</td>\n",
       "      <td>4</td>\n",
       "      <td>0</td>\n",
       "      <td>1</td>\n",
       "      <td>0</td>\n",
       "      <td>6.0</td>\n",
       "      <td>9.0</td>\n",
       "      <td>13.0</td>\n",
       "      <td>10.0</td>\n",
       "      <td>1.0</td>\n",
       "    </tr>\n",
       "    <tr>\n",
       "      <th>6238</th>\n",
       "      <td>30.0</td>\n",
       "      <td>3.0</td>\n",
       "      <td>3.0</td>\n",
       "      <td>2.0</td>\n",
       "      <td>0.0</td>\n",
       "      <td>0.00</td>\n",
       "      <td>0.00</td>\n",
       "      <td>0.00</td>\n",
       "      <td>0.00</td>\n",
       "      <td>0.00</td>\n",
       "      <td>...</td>\n",
       "      <td>0.00</td>\n",
       "      <td>0</td>\n",
       "      <td>0</td>\n",
       "      <td>0</td>\n",
       "      <td>0</td>\n",
       "      <td>0.0</td>\n",
       "      <td>0.0</td>\n",
       "      <td>0.0</td>\n",
       "      <td>0.0</td>\n",
       "      <td>5.0</td>\n",
       "    </tr>\n",
       "    <tr>\n",
       "      <th>1432</th>\n",
       "      <td>104.0</td>\n",
       "      <td>13.0</td>\n",
       "      <td>10.0</td>\n",
       "      <td>13.0</td>\n",
       "      <td>265.0</td>\n",
       "      <td>1640.30</td>\n",
       "      <td>0.04</td>\n",
       "      <td>27.14</td>\n",
       "      <td>60.44</td>\n",
       "      <td>44517.84</td>\n",
       "      <td>...</td>\n",
       "      <td>2473.21</td>\n",
       "      <td>74</td>\n",
       "      <td>25</td>\n",
       "      <td>3</td>\n",
       "      <td>0</td>\n",
       "      <td>23.0</td>\n",
       "      <td>50.0</td>\n",
       "      <td>147.0</td>\n",
       "      <td>118.0</td>\n",
       "      <td>25.0</td>\n",
       "    </tr>\n",
       "    <tr>\n",
       "      <th>4140</th>\n",
       "      <td>17.0</td>\n",
       "      <td>3.0</td>\n",
       "      <td>1.0</td>\n",
       "      <td>3.0</td>\n",
       "      <td>37.0</td>\n",
       "      <td>162.52</td>\n",
       "      <td>0.09</td>\n",
       "      <td>10.67</td>\n",
       "      <td>15.24</td>\n",
       "      <td>1733.50</td>\n",
       "      <td>...</td>\n",
       "      <td>96.31</td>\n",
       "      <td>12</td>\n",
       "      <td>0</td>\n",
       "      <td>3</td>\n",
       "      <td>0</td>\n",
       "      <td>12.0</td>\n",
       "      <td>9.0</td>\n",
       "      <td>21.0</td>\n",
       "      <td>16.0</td>\n",
       "      <td>5.0</td>\n",
       "    </tr>\n",
       "    <tr>\n",
       "      <th>...</th>\n",
       "      <td>...</td>\n",
       "      <td>...</td>\n",
       "      <td>...</td>\n",
       "      <td>...</td>\n",
       "      <td>...</td>\n",
       "      <td>...</td>\n",
       "      <td>...</td>\n",
       "      <td>...</td>\n",
       "      <td>...</td>\n",
       "      <td>...</td>\n",
       "      <td>...</td>\n",
       "      <td>...</td>\n",
       "      <td>...</td>\n",
       "      <td>...</td>\n",
       "      <td>...</td>\n",
       "      <td>...</td>\n",
       "      <td>...</td>\n",
       "      <td>...</td>\n",
       "      <td>...</td>\n",
       "      <td>...</td>\n",
       "      <td>...</td>\n",
       "    </tr>\n",
       "    <tr>\n",
       "      <th>5738</th>\n",
       "      <td>17.0</td>\n",
       "      <td>2.0</td>\n",
       "      <td>1.0</td>\n",
       "      <td>2.0</td>\n",
       "      <td>45.0</td>\n",
       "      <td>211.52</td>\n",
       "      <td>0.14</td>\n",
       "      <td>7.29</td>\n",
       "      <td>29.03</td>\n",
       "      <td>1541.07</td>\n",
       "      <td>...</td>\n",
       "      <td>85.62</td>\n",
       "      <td>10</td>\n",
       "      <td>1</td>\n",
       "      <td>3</td>\n",
       "      <td>0</td>\n",
       "      <td>12.0</td>\n",
       "      <td>14.0</td>\n",
       "      <td>28.0</td>\n",
       "      <td>17.0</td>\n",
       "      <td>3.0</td>\n",
       "    </tr>\n",
       "    <tr>\n",
       "      <th>5195</th>\n",
       "      <td>14.0</td>\n",
       "      <td>3.0</td>\n",
       "      <td>3.0</td>\n",
       "      <td>2.0</td>\n",
       "      <td>31.0</td>\n",
       "      <td>133.98</td>\n",
       "      <td>0.09</td>\n",
       "      <td>11.14</td>\n",
       "      <td>12.02</td>\n",
       "      <td>1492.92</td>\n",
       "      <td>...</td>\n",
       "      <td>82.94</td>\n",
       "      <td>10</td>\n",
       "      <td>0</td>\n",
       "      <td>2</td>\n",
       "      <td>0</td>\n",
       "      <td>13.0</td>\n",
       "      <td>7.0</td>\n",
       "      <td>19.0</td>\n",
       "      <td>12.0</td>\n",
       "      <td>5.0</td>\n",
       "    </tr>\n",
       "    <tr>\n",
       "      <th>5394</th>\n",
       "      <td>20.0</td>\n",
       "      <td>2.0</td>\n",
       "      <td>1.0</td>\n",
       "      <td>2.0</td>\n",
       "      <td>85.0</td>\n",
       "      <td>384.50</td>\n",
       "      <td>0.05</td>\n",
       "      <td>18.67</td>\n",
       "      <td>20.60</td>\n",
       "      <td>7177.38</td>\n",
       "      <td>...</td>\n",
       "      <td>398.74</td>\n",
       "      <td>14</td>\n",
       "      <td>3</td>\n",
       "      <td>1</td>\n",
       "      <td>0</td>\n",
       "      <td>14.0</td>\n",
       "      <td>9.0</td>\n",
       "      <td>61.0</td>\n",
       "      <td>24.0</td>\n",
       "      <td>3.0</td>\n",
       "    </tr>\n",
       "    <tr>\n",
       "      <th>862</th>\n",
       "      <td>33.0</td>\n",
       "      <td>4.0</td>\n",
       "      <td>3.0</td>\n",
       "      <td>2.0</td>\n",
       "      <td>90.0</td>\n",
       "      <td>454.00</td>\n",
       "      <td>0.04</td>\n",
       "      <td>24.43</td>\n",
       "      <td>18.58</td>\n",
       "      <td>11090.46</td>\n",
       "      <td>...</td>\n",
       "      <td>616.14</td>\n",
       "      <td>18</td>\n",
       "      <td>5</td>\n",
       "      <td>8</td>\n",
       "      <td>0</td>\n",
       "      <td>19.0</td>\n",
       "      <td>14.0</td>\n",
       "      <td>54.0</td>\n",
       "      <td>36.0</td>\n",
       "      <td>7.0</td>\n",
       "    </tr>\n",
       "    <tr>\n",
       "      <th>7274</th>\n",
       "      <td>292.0</td>\n",
       "      <td>37.0</td>\n",
       "      <td>11.0</td>\n",
       "      <td>11.0</td>\n",
       "      <td>633.0</td>\n",
       "      <td>3676.06</td>\n",
       "      <td>0.01</td>\n",
       "      <td>107.90</td>\n",
       "      <td>34.07</td>\n",
       "      <td>396646.41</td>\n",
       "      <td>...</td>\n",
       "      <td>22035.91</td>\n",
       "      <td>217</td>\n",
       "      <td>40</td>\n",
       "      <td>33</td>\n",
       "      <td>0</td>\n",
       "      <td>26.0</td>\n",
       "      <td>30.0</td>\n",
       "      <td>384.0</td>\n",
       "      <td>249.0</td>\n",
       "      <td>71.0</td>\n",
       "    </tr>\n",
       "  </tbody>\n",
       "</table>\n",
       "<p>7616 rows × 21 columns</p>\n",
       "</div>"
      ],
      "text/plain": [
       "        loc  v(g)  ev(g)  iv(g)      n        v     l       d      i  \\\n",
       "4029    4.0   1.0    1.0    1.0    5.0    11.61  0.67    1.50   7.74   \n",
       "3671    7.0   1.0    1.0    1.0   23.0    89.86  0.30    3.33  26.96   \n",
       "6238   30.0   3.0    3.0    2.0    0.0     0.00  0.00    0.00   0.00   \n",
       "1432  104.0  13.0   10.0   13.0  265.0  1640.30  0.04   27.14  60.44   \n",
       "4140   17.0   3.0    1.0    3.0   37.0   162.52  0.09   10.67  15.24   \n",
       "...     ...   ...    ...    ...    ...      ...   ...     ...    ...   \n",
       "5738   17.0   2.0    1.0    2.0   45.0   211.52  0.14    7.29  29.03   \n",
       "5195   14.0   3.0    3.0    2.0   31.0   133.98  0.09   11.14  12.02   \n",
       "5394   20.0   2.0    1.0    2.0   85.0   384.50  0.05   18.67  20.60   \n",
       "862    33.0   4.0    3.0    2.0   90.0   454.00  0.04   24.43  18.58   \n",
       "7274  292.0  37.0   11.0   11.0  633.0  3676.06  0.01  107.90  34.07   \n",
       "\n",
       "              e  ...         t  lOCode  lOComment  lOBlank  locCodeAndComment  \\\n",
       "4029      17.41  ...      0.97       2          0        0                  0   \n",
       "3671     299.53  ...     16.64       4          0        1                  0   \n",
       "6238       0.00  ...      0.00       0          0        0                  0   \n",
       "1432   44517.84  ...   2473.21      74         25        3                  0   \n",
       "4140    1733.50  ...     96.31      12          0        3                  0   \n",
       "...         ...  ...       ...     ...        ...      ...                ...   \n",
       "5738    1541.07  ...     85.62      10          1        3                  0   \n",
       "5195    1492.92  ...     82.94      10          0        2                  0   \n",
       "5394    7177.38  ...    398.74      14          3        1                  0   \n",
       "862    11090.46  ...    616.14      18          5        8                  0   \n",
       "7274  396646.41  ...  22035.91     217         40       33                  0   \n",
       "\n",
       "      uniq_Op  uniq_Opnd  total_Op  total_Opnd  branchCount  \n",
       "4029      3.0        2.0       3.0         2.0          1.0  \n",
       "3671      6.0        9.0      13.0        10.0          1.0  \n",
       "6238      0.0        0.0       0.0         0.0          5.0  \n",
       "1432     23.0       50.0     147.0       118.0         25.0  \n",
       "4140     12.0        9.0      21.0        16.0          5.0  \n",
       "...       ...        ...       ...         ...          ...  \n",
       "5738     12.0       14.0      28.0        17.0          3.0  \n",
       "5195     13.0        7.0      19.0        12.0          5.0  \n",
       "5394     14.0        9.0      61.0        24.0          3.0  \n",
       "862      19.0       14.0      54.0        36.0          7.0  \n",
       "7274     26.0       30.0     384.0       249.0         71.0  \n",
       "\n",
       "[7616 rows x 21 columns]"
      ]
     },
     "execution_count": 5,
     "metadata": {},
     "output_type": "execute_result"
    }
   ],
   "source": [
    "X_train"
   ]
  },
  {
   "cell_type": "code",
   "execution_count": 6,
   "id": "2e3fced5",
   "metadata": {},
   "outputs": [
    {
     "data": {
      "text/plain": [
       "Index(['loc', 'v(g)', 'ev(g)', 'iv(g)', 'n', 'v', 'l', 'd', 'i', 'e', 'b', 't',\n",
       "       'lOCode', 'lOComment', 'lOBlank', 'locCodeAndComment', 'uniq_Op',\n",
       "       'uniq_Opnd', 'total_Op', 'total_Opnd', 'branchCount', 'defects'],\n",
       "      dtype='object')"
      ]
     },
     "execution_count": 6,
     "metadata": {},
     "output_type": "execute_result"
    }
   ],
   "source": [
    "df.columns"
   ]
  },
  {
   "cell_type": "markdown",
   "id": "78546eb8",
   "metadata": {},
   "source": [
    "## Checking the null value"
   ]
  },
  {
   "cell_type": "code",
   "execution_count": 7,
   "id": "523d044d",
   "metadata": {},
   "outputs": [
    {
     "data": {
      "text/plain": [
       "loc                  0\n",
       "v(g)                 0\n",
       "ev(g)                0\n",
       "iv(g)                0\n",
       "n                    0\n",
       "v                    0\n",
       "l                    0\n",
       "d                    0\n",
       "i                    0\n",
       "e                    0\n",
       "b                    0\n",
       "t                    0\n",
       "lOCode               0\n",
       "lOComment            0\n",
       "lOBlank              0\n",
       "locCodeAndComment    0\n",
       "uniq_Op              0\n",
       "uniq_Opnd            0\n",
       "total_Op             0\n",
       "total_Opnd           0\n",
       "branchCount          0\n",
       "defects              0\n",
       "dtype: int64"
      ]
     },
     "execution_count": 7,
     "metadata": {},
     "output_type": "execute_result"
    }
   ],
   "source": [
    "df.isnull().sum()"
   ]
  },
  {
   "cell_type": "code",
   "execution_count": 8,
   "id": "d165c133",
   "metadata": {},
   "outputs": [
    {
     "data": {
      "text/plain": [
       "Index([], dtype='object')"
      ]
     },
     "execution_count": 8,
     "metadata": {},
     "output_type": "execute_result"
    }
   ],
   "source": [
    "df.columns[df.dtypes == 'object']"
   ]
  },
  {
   "cell_type": "code",
   "execution_count": 9,
   "id": "729dbb2a",
   "metadata": {},
   "outputs": [
    {
     "data": {
      "text/plain": [
       "loc                  float64\n",
       "v(g)                 float64\n",
       "ev(g)                float64\n",
       "iv(g)                float64\n",
       "n                    float64\n",
       "v                    float64\n",
       "l                    float64\n",
       "d                    float64\n",
       "i                    float64\n",
       "e                    float64\n",
       "b                    float64\n",
       "t                    float64\n",
       "lOCode                 int64\n",
       "lOComment              int64\n",
       "lOBlank                int64\n",
       "locCodeAndComment      int64\n",
       "uniq_Op              float64\n",
       "uniq_Opnd            float64\n",
       "total_Op             float64\n",
       "total_Opnd           float64\n",
       "branchCount          float64\n",
       "defects                int64\n",
       "dtype: object"
      ]
     },
     "execution_count": 9,
     "metadata": {},
     "output_type": "execute_result"
    }
   ],
   "source": [
    "df.dtypes"
   ]
  },
  {
   "cell_type": "code",
   "execution_count": 1000,
   "id": "6f3d8749",
   "metadata": {},
   "outputs": [],
   "source": [
    "#our_rf_model = RandomForestClassifier(random_state=0)\n",
    "#our_rf_model.fit(X_train, y_train) "
   ]
  },
  {
   "cell_type": "code",
   "execution_count": 1313,
   "id": "8fb9189e",
   "metadata": {},
   "outputs": [],
   "source": [
    "## For SVM data fitting\n",
    "from sklearn.preprocessing import LabelEncoder\n",
    "le = LabelEncoder()\n",
    "y_train = le.fit_transform(y_train)"
   ]
  },
  {
   "cell_type": "markdown",
   "id": "33b6a273",
   "metadata": {},
   "source": [
    "## Create classifier object, Train, and Test "
   ]
  },
  {
   "cell_type": "code",
   "execution_count": 1314,
   "id": "02fa0141",
   "metadata": {},
   "outputs": [
    {
     "name": "stderr",
     "output_type": "stream",
     "text": [
      "lbfgs failed to converge (status=2):\n",
      "ABNORMAL_TERMINATION_IN_LNSRCH.\n",
      "\n",
      "Increase the number of iterations (max_iter) or scale the data as shown in:\n",
      "    https://scikit-learn.org/stable/modules/preprocessing.html\n",
      "Please also refer to the documentation for alternative solver options:\n",
      "    https://scikit-learn.org/stable/modules/linear_model.html#logistic-regression\n"
     ]
    }
   ],
   "source": [
    "# Create classifer object\n",
    "our_rf_model = RandomForestClassifier()\n",
    "our_dt_model = DecisionTreeClassifier()\n",
    "our_lr_model = LogisticRegression()\n",
    "our_mlp_model = MLPClassifier()\n",
    "our_xgb_model = XGBClassifier()\n",
    "our_svm_model = svm.SVC()\n",
    "\n",
    "# Train Classifer\n",
    "our_rf_model = our_rf_model.fit(X_train,y_train)\n",
    "our_dt_model = our_dt_model.fit(X_train,y_train)\n",
    "our_lr_model = our_lr_model.fit(X_train,y_train)\n",
    "our_mlp_model = our_mlp_model.fit(X_train,y_train)\n",
    "our_xgb_model = our_xgb_model.fit(X_train,y_train)\n",
    "our_svm_model = our_svm_model.fit(X_train [:500], y_train[:500])\n",
    "\n",
    "#Predict the response for test dataset\n",
    "\n",
    "y_pred_our_rf_model = our_rf_model.predict(X_test)\n",
    "y_pred_our_dt_model = our_dt_model.predict(X_test)\n",
    "y_pred_our_lr_model = our_lr_model.predict(X_test)\n",
    "y_pred_our_mlp_model = our_mlp_model.predict(X_test)\n",
    "y_pred_our_xgb_model = our_xgb_model.predict(X_test)\n",
    "y_pred_our_svm_model = our_svm_model.predict(X_test)"
   ]
  },
  {
   "cell_type": "markdown",
   "id": "f423f714",
   "metadata": {},
   "source": [
    "## Measuring Accuracy"
   ]
  },
  {
   "cell_type": "code",
   "execution_count": 1315,
   "id": "c54ee37f",
   "metadata": {},
   "outputs": [
    {
     "name": "stdout",
     "output_type": "stream",
     "text": [
      "Accuracy for Random Forest (RF): 0.9762470308788599\n",
      "Accuracy for Decission Tree (DT): 0.9798099762470309\n",
      "Accuracy for Logistic Regression (LR): 0.9548693586698337\n",
      "Accuracy for Multi-Layer Perceptron Neural Network (MLP): 0.9524940617577197\n",
      "Accuracy for Gradient Boosting (XGB): 0.9857482185273159\n",
      "Accuracy for Support Vector Machine (SVM): 0.9572446555819477\n"
     ]
    }
   ],
   "source": [
    "# Model Accuracy, how often is the classifier correct?\n",
    "print(\"Accuracy for Random Forest (RF):\",metrics.accuracy_score(y_test, y_pred_our_rf_model))\n",
    "print(\"Accuracy for Decission Tree (DT):\",metrics.accuracy_score(y_test, y_pred_our_dt_model))\n",
    "print(\"Accuracy for Logistic Regression (LR):\",metrics.accuracy_score(y_test, y_pred_our_lr_model))\n",
    "print(\"Accuracy for Multi-Layer Perceptron Neural Network (MLP):\",metrics.accuracy_score(y_test, y_pred_our_mlp_model))\n",
    "print(\"Accuracy for Gradient Boosting (XGB):\",metrics.accuracy_score(y_test, y_pred_our_xgb_model))\n",
    "print(\"Accuracy for Support Vector Machine (SVM):\",metrics.accuracy_score(y_test, y_pred_our_svm_model))\n"
   ]
  },
  {
   "cell_type": "markdown",
   "id": "9fb09984",
   "metadata": {},
   "source": [
    "## Precision, Recall, and f1 Score, and AUC for RF"
   ]
  },
  {
   "cell_type": "code",
   "execution_count": 1316,
   "id": "64a3cfa4",
   "metadata": {},
   "outputs": [
    {
     "name": "stdout",
     "output_type": "stream",
     "text": [
      "Precision: 0.4248217468805704\n",
      "Recall: 0.3672727272727273\n",
      "f1 score: 0.3831825387928964\n"
     ]
    },
    {
     "name": "stderr",
     "output_type": "stream",
     "text": [
      "Precision is ill-defined and being set to 0.0 in labels with no predicted samples. Use `zero_division` parameter to control this behavior.\n"
     ]
    }
   ],
   "source": [
    "print(\"Precision:\",metrics.precision_score(y_test, y_pred_our_rf_model, average = \"macro\"))\n",
    "print(\"Recall:\",metrics.recall_score(y_test, y_pred_our_rf_model, average = \"macro\"))\n",
    "print(\"f1 score:\",metrics.f1_score(y_test,y_pred_our_rf_model, average = \"macro\"))"
   ]
  },
  {
   "cell_type": "code",
   "execution_count": 1317,
   "id": "a95447a1",
   "metadata": {},
   "outputs": [
    {
     "name": "stdout",
     "output_type": "stream",
     "text": [
      "[0.1388888888888889, 0.8351441241685144, 0.9835121176003179, 0.8371394230769231, 0.9875148632580262]\n",
      "AUC for RF: 0.756439883398534\n"
     ]
    }
   ],
   "source": [
    "from sklearn import metrics\n",
    "u_value= list(y_test.unique())\n",
    "all_auc = []\n",
    "for i in u_value:\n",
    "    fpr, tpr, thresholds = metrics.roc_curve(y_test, y_pred_our_rf_model, pos_label=i)\n",
    "    all_auc.append(metrics.auc(fpr, tpr))\n",
    "print(all_auc)\n",
    "print(\"AUC for RF:\",sum(all_auc)/len(all_auc))"
   ]
  },
  {
   "cell_type": "code",
   "execution_count": 1318,
   "id": "dc48829e",
   "metadata": {},
   "outputs": [
    {
     "data": {
      "text/plain": [
       "[0, 2, 3, 1, 4]"
      ]
     },
     "execution_count": 1318,
     "metadata": {},
     "output_type": "execute_result"
    }
   ],
   "source": [
    "list(y_test.unique())"
   ]
  },
  {
   "cell_type": "markdown",
   "id": "22fa9b4a",
   "metadata": {},
   "source": [
    "## Precision, Recall, and f1 Score, and AUC for DT"
   ]
  },
  {
   "cell_type": "code",
   "execution_count": 1319,
   "id": "bd1e680a",
   "metadata": {},
   "outputs": [
    {
     "name": "stdout",
     "output_type": "stream",
     "text": [
      "Precision: 0.4479166666666667\n",
      "Recall: 0.5333333333333333\n",
      "f1 score: 0.47149122807017546\n"
     ]
    },
    {
     "name": "stderr",
     "output_type": "stream",
     "text": [
      "Recall is ill-defined and being set to 0.0 in labels with no true samples. Use `zero_division` parameter to control this behavior.\n"
     ]
    }
   ],
   "source": [
    "print(\"Precision:\",metrics.precision_score(y_test, y_pred_our_dt_model, average = \"macro\"))\n",
    "print(\"Recall:\",metrics.recall_score(y_test, y_pred_our_dt_model, average = \"macro\"))\n",
    "print(\"f1 score:\",metrics.f1_score(y_test,y_pred_our_dt_model, average = \"macro\"))"
   ]
  },
  {
   "cell_type": "code",
   "execution_count": 1320,
   "id": "810f1c20",
   "metadata": {},
   "outputs": [
    {
     "name": "stdout",
     "output_type": "stream",
     "text": [
      "[0.0, 0.992960088691796, 0.9851013110846246, 0.9778846153846154, 0.9970273483947681]\n",
      "AUC for DT: 0.7905946727111608\n"
     ]
    }
   ],
   "source": [
    "from sklearn import metrics\n",
    "u_value= list(y_test.unique())\n",
    "all_auc = []\n",
    "for i in u_value:\n",
    "    fpr, tpr, thresholds = metrics.roc_curve(y_test, y_pred_our_dt_model, pos_label=i)\n",
    "    all_auc.append(metrics.auc(fpr, tpr))\n",
    "print(all_auc)\n",
    "print(\"AUC for DT:\",sum(all_auc)/len(all_auc))"
   ]
  },
  {
   "cell_type": "markdown",
   "id": "0852fd30",
   "metadata": {},
   "source": [
    "## Precision, Recall, and f1 Score, and AUC for LR"
   ]
  },
  {
   "cell_type": "code",
   "execution_count": 1321,
   "id": "84ebf9d7",
   "metadata": {},
   "outputs": [
    {
     "name": "stdout",
     "output_type": "stream",
     "text": [
      "Precision: 0.9548693586698337\n",
      "Recall: 0.19950372208436723\n",
      "f1 score: 0.1955015197568389\n"
     ]
    }
   ],
   "source": [
    "print(\"Precision:\",metrics.precision_score(y_test, y_pred_our_lr_model, average = \"micro\"))\n",
    "print(\"Recall:\",metrics.recall_score(y_test, y_pred_our_lr_model, average = \"macro\"))\n",
    "print(\"f1 score:\",metrics.f1_score(y_test,y_pred_our_lr_model, average = \"macro\"))"
   ]
  },
  {
   "cell_type": "code",
   "execution_count": 1322,
   "id": "4937d00e",
   "metadata": {},
   "outputs": [
    {
     "name": "stdout",
     "output_type": "stream",
     "text": [
      "[0.48735180590019295, 0.49817073170731707, 0.6654747715534366, 0.49819711538461536, 0.4982164090368609]\n",
      "AUC for LR: 0.5294821667164846\n"
     ]
    }
   ],
   "source": [
    "from sklearn import metrics\n",
    "u_value= list(y_test.unique())\n",
    "all_auc = []\n",
    "for i in u_value:\n",
    "    fpr, tpr, thresholds = metrics.roc_curve(y_test, y_pred_our_lr_model, pos_label=i)\n",
    "    all_auc.append(metrics.auc(fpr, tpr))\n",
    "print(all_auc)\n",
    "print(\"AUC for LR:\",sum(all_auc)/len(all_auc))"
   ]
  },
  {
   "cell_type": "markdown",
   "id": "255e31df",
   "metadata": {},
   "source": [
    "## Precision, Recall, and f1 Score, and AUC for MLP"
   ]
  },
  {
   "cell_type": "code",
   "execution_count": 1323,
   "id": "efa952b5",
   "metadata": {},
   "outputs": [
    {
     "name": "stdout",
     "output_type": "stream",
     "text": [
      "Precision: 0.3135858585858586\n",
      "Recall: 0.21914429656365142\n",
      "f1 score: 0.23947876718641678\n"
     ]
    },
    {
     "name": "stderr",
     "output_type": "stream",
     "text": [
      "Precision is ill-defined and being set to 0.0 in labels with no predicted samples. Use `zero_division` parameter to control this behavior.\n",
      "Recall is ill-defined and being set to 0.0 in labels with no true samples. Use `zero_division` parameter to control this behavior.\n"
     ]
    }
   ],
   "source": [
    "print(\"Precision:\",metrics.precision_score(y_test, y_pred_our_mlp_model, average = \"macro\"))\n",
    "print(\"Recall:\",metrics.recall_score(y_test, y_pred_our_mlp_model, average = \"macro\"))\n",
    "print(\"f1 score:\",metrics.f1_score(y_test,y_pred_our_mlp_model, average = \"macro\"))"
   ]
  },
  {
   "cell_type": "code",
   "execution_count": 1324,
   "id": "930b09ba",
   "metadata": {
    "scrolled": true
   },
   "outputs": [
    {
     "name": "stdout",
     "output_type": "stream",
     "text": [
      "[0.4090846429556107, 0.6299057649667406, 0.4898688915375447, 0.5394831730769231, 0.48989298454221164]\n",
      "AUC for MLP: 0.5116470914158061\n"
     ]
    }
   ],
   "source": [
    "from sklearn import metrics\n",
    "u_value= list(y_test.unique())\n",
    "all_auc = []\n",
    "for i in u_value:\n",
    "    fpr, tpr, thresholds = metrics.roc_curve(y_test, y_pred_our_mlp_model, pos_label=i)\n",
    "    all_auc.append(metrics.auc(fpr, tpr))\n",
    "print(all_auc)\n",
    "print(\"AUC for MLP:\",sum(all_auc)/len(all_auc))"
   ]
  },
  {
   "cell_type": "markdown",
   "id": "1e5fae17",
   "metadata": {},
   "source": [
    "## Precision, Recall, and f1 Score, and AUC for XGB"
   ]
  },
  {
   "cell_type": "code",
   "execution_count": 1325,
   "id": "890e671a",
   "metadata": {},
   "outputs": [
    {
     "name": "stdout",
     "output_type": "stream",
     "text": [
      "Precision: 0.4530909090909091\n",
      "Recall: 0.4836363636363637\n",
      "f1 score: 0.4674772036474164\n"
     ]
    },
    {
     "name": "stderr",
     "output_type": "stream",
     "text": [
      "Precision is ill-defined and being set to 0.0 in labels with no predicted samples. Use `zero_division` parameter to control this behavior.\n"
     ]
    }
   ],
   "source": [
    "print(\"Precision:\",metrics.precision_score(y_test, y_pred_our_xgb_model, average = \"macro\"))\n",
    "print(\"Recall:\",metrics.recall_score(y_test, y_pred_our_xgb_model, average = \"macro\"))\n",
    "print(\"f1 score:\",metrics.f1_score(y_test,y_pred_our_xgb_model, average = \"macro\"))"
   ]
  },
  {
   "cell_type": "code",
   "execution_count": 1326,
   "id": "76053119",
   "metadata": {},
   "outputs": [
    {
     "name": "stdout",
     "output_type": "stream",
     "text": [
      "[0.0, 0.9941796008869179, 0.9797377830750894, 0.9780048076923077, 0.9857312722948871]\n",
      "AUC for XGB: 0.7875306927898403\n"
     ]
    }
   ],
   "source": [
    "from sklearn import metrics\n",
    "u_value= list(y_test.unique())\n",
    "all_auc = []\n",
    "for i in u_value:\n",
    "    fpr, tpr, thresholds = metrics.roc_curve(y_test, y_pred_our_xgb_model, pos_label=i)\n",
    "    all_auc.append(metrics.auc(fpr, tpr))\n",
    "print(all_auc)\n",
    "print(\"AUC for XGB:\",sum(all_auc)/len(all_auc))"
   ]
  },
  {
   "cell_type": "markdown",
   "id": "fa638143",
   "metadata": {},
   "source": [
    "## Precision, Recall, and f1 Score, and AUC for SVM"
   ]
  },
  {
   "cell_type": "code",
   "execution_count": 1178,
   "id": "c3c80003",
   "metadata": {},
   "outputs": [
    {
     "name": "stdout",
     "output_type": "stream",
     "text": [
      "Precision: 0.9382470119521913\n",
      "Recall: 0.9382470119521913\n",
      "f1 score: 0.9382470119521913\n"
     ]
    }
   ],
   "source": [
    "print(\"Precision:\",metrics.precision_score(y_test, y_pred_our_svm_model, average = \"micro\"))\n",
    "print(\"Recall:\",metrics.recall_score(y_test, y_pred_our_svm_model, average = \"micro\"))\n",
    "print(\"f1 score:\",metrics.f1_score(y_test,y_pred_our_svm_model, average = \"micro\"))"
   ]
  },
  {
   "cell_type": "code",
   "execution_count": 1179,
   "id": "bbcb5507",
   "metadata": {},
   "outputs": [
    {
     "name": "stdout",
     "output_type": "stream",
     "text": [
      "[0.5, 0.5, 0.5, 0.5, 0.5, 0.5]\n",
      "AUC for SVM: 0.5\n"
     ]
    }
   ],
   "source": [
    "from sklearn import metrics\n",
    "u_value= list(y_test.unique())\n",
    "all_auc = []\n",
    "for i in u_value:\n",
    "    fpr, tpr, thresholds = metrics.roc_curve(y_test, y_pred_our_svm_model, pos_label=i)\n",
    "    all_auc.append(metrics.auc(fpr, tpr))\n",
    "print(all_auc)\n",
    "print(\"AUC for SVM:\",sum(all_auc)/len(all_auc))"
   ]
  },
  {
   "cell_type": "markdown",
   "id": "84160cf0",
   "metadata": {},
   "source": [
    "## CV Score for RF"
   ]
  },
  {
   "cell_type": "code",
   "execution_count": 1327,
   "id": "32b93688",
   "metadata": {},
   "outputs": [
    {
     "name": "stderr",
     "output_type": "stream",
     "text": [
      "The least populated class in y has only 1 members, which is less than n_splits=10.\n"
     ]
    },
    {
     "name": "stdout",
     "output_type": "stream",
     "text": [
      "Cross-Validation Accuracy Scores for RF [0.98477157 0.98984772 0.96954315 0.97969543 0.98469388 0.98979592\n",
      " 0.97959184 0.98979592 0.98469388 0.98979592]\n"
     ]
    }
   ],
   "source": [
    "scores = cross_val_score(our_rf_model, X_train, y_train, cv=10)\n",
    "print('Cross-Validation Accuracy Scores for RF', scores)"
   ]
  },
  {
   "cell_type": "markdown",
   "id": "301ea177",
   "metadata": {},
   "source": [
    "## After CV: Minimum, Mean, and Maximum Value for RF"
   ]
  },
  {
   "cell_type": "code",
   "execution_count": 1328,
   "id": "c78af46c",
   "metadata": {},
   "outputs": [
    {
     "data": {
      "text/plain": [
       "(0.9695431472081218, 0.984222521495908, 0.9898477157360406)"
      ]
     },
     "execution_count": 1328,
     "metadata": {},
     "output_type": "execute_result"
    }
   ],
   "source": [
    "scores = pd.Series(scores)\n",
    "scores.min(), scores.mean(), scores.max()"
   ]
  },
  {
   "cell_type": "code",
   "execution_count": 1329,
   "id": "85c03b76",
   "metadata": {},
   "outputs": [
    {
     "name": "stdout",
     "output_type": "stream",
     "text": [
      "Mean Accuracy Scores for RF 0.984222521495908\n"
     ]
    }
   ],
   "source": [
    "print('Mean Accuracy Scores for RF', scores.mean())"
   ]
  },
  {
   "cell_type": "markdown",
   "id": "8ce3590e",
   "metadata": {},
   "source": [
    "## CV Score for DT"
   ]
  },
  {
   "cell_type": "code",
   "execution_count": 1330,
   "id": "fc27f709",
   "metadata": {},
   "outputs": [
    {
     "name": "stdout",
     "output_type": "stream",
     "text": [
      "Cross-Validation Accuracy Scores for DT [0.98984772 0.99492386 0.96954315 0.97969543 0.98469388 0.97959184\n",
      " 0.98979592 0.98469388 0.98469388 0.9744898 ]\n"
     ]
    },
    {
     "name": "stderr",
     "output_type": "stream",
     "text": [
      "The least populated class in y has only 1 members, which is less than n_splits=10.\n"
     ]
    }
   ],
   "source": [
    "scores = cross_val_score(our_dt_model, X_train, y_train, cv=10)\n",
    "print('Cross-Validation Accuracy Scores for DT', scores)"
   ]
  },
  {
   "cell_type": "markdown",
   "id": "ab11d8a2",
   "metadata": {},
   "source": [
    "## After CV: Minimum, Mean, and Maximum Value for DT"
   ]
  },
  {
   "cell_type": "code",
   "execution_count": 1331,
   "id": "7db75f74",
   "metadata": {},
   "outputs": [
    {
     "data": {
      "text/plain": [
       "(0.9695431472081218, 0.9831969335957733, 0.9949238578680203)"
      ]
     },
     "execution_count": 1331,
     "metadata": {},
     "output_type": "execute_result"
    }
   ],
   "source": [
    "scores = pd.Series(scores)\n",
    "scores.min(), scores.mean(), scores.max()"
   ]
  },
  {
   "cell_type": "code",
   "execution_count": 1332,
   "id": "e92c8eb9",
   "metadata": {},
   "outputs": [
    {
     "name": "stdout",
     "output_type": "stream",
     "text": [
      "Mean Accuracy Scores for DT 0.9831969335957733\n"
     ]
    }
   ],
   "source": [
    "print('Mean Accuracy Scores for DT', scores.mean())"
   ]
  },
  {
   "cell_type": "markdown",
   "id": "2dac6f33",
   "metadata": {},
   "source": [
    "## CV Score for LR"
   ]
  },
  {
   "cell_type": "code",
   "execution_count": 1333,
   "id": "dfbfea46",
   "metadata": {},
   "outputs": [
    {
     "name": "stderr",
     "output_type": "stream",
     "text": [
      "The least populated class in y has only 1 members, which is less than n_splits=10.\n",
      "lbfgs failed to converge (status=2):\n",
      "ABNORMAL_TERMINATION_IN_LNSRCH.\n",
      "\n",
      "Increase the number of iterations (max_iter) or scale the data as shown in:\n",
      "    https://scikit-learn.org/stable/modules/preprocessing.html\n",
      "Please also refer to the documentation for alternative solver options:\n",
      "    https://scikit-learn.org/stable/modules/linear_model.html#logistic-regression\n",
      "lbfgs failed to converge (status=2):\n",
      "ABNORMAL_TERMINATION_IN_LNSRCH.\n",
      "\n",
      "Increase the number of iterations (max_iter) or scale the data as shown in:\n",
      "    https://scikit-learn.org/stable/modules/preprocessing.html\n",
      "Please also refer to the documentation for alternative solver options:\n",
      "    https://scikit-learn.org/stable/modules/linear_model.html#logistic-regression\n",
      "lbfgs failed to converge (status=2):\n",
      "ABNORMAL_TERMINATION_IN_LNSRCH.\n",
      "\n",
      "Increase the number of iterations (max_iter) or scale the data as shown in:\n",
      "    https://scikit-learn.org/stable/modules/preprocessing.html\n",
      "Please also refer to the documentation for alternative solver options:\n",
      "    https://scikit-learn.org/stable/modules/linear_model.html#logistic-regression\n",
      "lbfgs failed to converge (status=2):\n",
      "ABNORMAL_TERMINATION_IN_LNSRCH.\n",
      "\n",
      "Increase the number of iterations (max_iter) or scale the data as shown in:\n",
      "    https://scikit-learn.org/stable/modules/preprocessing.html\n",
      "Please also refer to the documentation for alternative solver options:\n",
      "    https://scikit-learn.org/stable/modules/linear_model.html#logistic-regression\n",
      "lbfgs failed to converge (status=2):\n",
      "ABNORMAL_TERMINATION_IN_LNSRCH.\n",
      "\n",
      "Increase the number of iterations (max_iter) or scale the data as shown in:\n",
      "    https://scikit-learn.org/stable/modules/preprocessing.html\n",
      "Please also refer to the documentation for alternative solver options:\n",
      "    https://scikit-learn.org/stable/modules/linear_model.html#logistic-regression\n",
      "lbfgs failed to converge (status=2):\n",
      "ABNORMAL_TERMINATION_IN_LNSRCH.\n",
      "\n",
      "Increase the number of iterations (max_iter) or scale the data as shown in:\n",
      "    https://scikit-learn.org/stable/modules/preprocessing.html\n",
      "Please also refer to the documentation for alternative solver options:\n",
      "    https://scikit-learn.org/stable/modules/linear_model.html#logistic-regression\n",
      "lbfgs failed to converge (status=2):\n",
      "ABNORMAL_TERMINATION_IN_LNSRCH.\n",
      "\n",
      "Increase the number of iterations (max_iter) or scale the data as shown in:\n",
      "    https://scikit-learn.org/stable/modules/preprocessing.html\n",
      "Please also refer to the documentation for alternative solver options:\n",
      "    https://scikit-learn.org/stable/modules/linear_model.html#logistic-regression\n",
      "lbfgs failed to converge (status=2):\n",
      "ABNORMAL_TERMINATION_IN_LNSRCH.\n",
      "\n",
      "Increase the number of iterations (max_iter) or scale the data as shown in:\n",
      "    https://scikit-learn.org/stable/modules/preprocessing.html\n",
      "Please also refer to the documentation for alternative solver options:\n",
      "    https://scikit-learn.org/stable/modules/linear_model.html#logistic-regression\n",
      "lbfgs failed to converge (status=2):\n",
      "ABNORMAL_TERMINATION_IN_LNSRCH.\n",
      "\n",
      "Increase the number of iterations (max_iter) or scale the data as shown in:\n",
      "    https://scikit-learn.org/stable/modules/preprocessing.html\n",
      "Please also refer to the documentation for alternative solver options:\n",
      "    https://scikit-learn.org/stable/modules/linear_model.html#logistic-regression\n"
     ]
    },
    {
     "name": "stdout",
     "output_type": "stream",
     "text": [
      "Cross-Validation Accuracy Scores for LR [0.96446701 0.96446701 0.96446701 0.94416244 0.96428571 0.96428571\n",
      " 0.96428571 0.96428571 0.96428571 0.96428571]\n"
     ]
    },
    {
     "name": "stderr",
     "output_type": "stream",
     "text": [
      "lbfgs failed to converge (status=2):\n",
      "ABNORMAL_TERMINATION_IN_LNSRCH.\n",
      "\n",
      "Increase the number of iterations (max_iter) or scale the data as shown in:\n",
      "    https://scikit-learn.org/stable/modules/preprocessing.html\n",
      "Please also refer to the documentation for alternative solver options:\n",
      "    https://scikit-learn.org/stable/modules/linear_model.html#logistic-regression\n"
     ]
    }
   ],
   "source": [
    "scores = cross_val_score(our_lr_model, X_train, y_train, cv=10)\n",
    "print('Cross-Validation Accuracy Scores for LR', scores)"
   ]
  },
  {
   "cell_type": "markdown",
   "id": "2671272a",
   "metadata": {},
   "source": [
    "## After CV: Minimum, Mean, and Maximum Value for LR"
   ]
  },
  {
   "cell_type": "code",
   "execution_count": 1334,
   "id": "789406c9",
   "metadata": {},
   "outputs": [
    {
     "data": {
      "text/plain": [
       "(0.9441624365482234, 0.9623277737490934, 0.9644670050761421)"
      ]
     },
     "execution_count": 1334,
     "metadata": {},
     "output_type": "execute_result"
    }
   ],
   "source": [
    "scores = pd.Series(scores)\n",
    "scores.min(), scores.mean(), scores.max()"
   ]
  },
  {
   "cell_type": "code",
   "execution_count": 1335,
   "id": "9601794b",
   "metadata": {},
   "outputs": [
    {
     "name": "stdout",
     "output_type": "stream",
     "text": [
      "Mean Accuracy Scores for LR 0.9623277737490934\n"
     ]
    }
   ],
   "source": [
    "print('Mean Accuracy Scores for LR', scores.mean())"
   ]
  },
  {
   "cell_type": "markdown",
   "id": "6bcf57a5",
   "metadata": {},
   "source": [
    "## CV Score for MLP"
   ]
  },
  {
   "cell_type": "code",
   "execution_count": 1336,
   "id": "ebe7f6bc",
   "metadata": {},
   "outputs": [
    {
     "name": "stderr",
     "output_type": "stream",
     "text": [
      "The least populated class in y has only 1 members, which is less than n_splits=10.\n"
     ]
    },
    {
     "name": "stdout",
     "output_type": "stream",
     "text": [
      "Cross-Validation Accuracy Scores for MLP [0.9035533  0.95431472 0.96446701 0.93908629 0.9744898  0.95408163\n",
      " 0.95918367 0.93367347 0.96428571 0.94387755]\n"
     ]
    }
   ],
   "source": [
    "scores = cross_val_score(our_mlp_model, X_train, y_train, cv=10)\n",
    "print('Cross-Validation Accuracy Scores for MLP', scores)"
   ]
  },
  {
   "cell_type": "markdown",
   "id": "3936358c",
   "metadata": {},
   "source": [
    "## After CV: Minimum, Mean, and Maximum Value for MLP "
   ]
  },
  {
   "cell_type": "code",
   "execution_count": 1337,
   "id": "88582931",
   "metadata": {},
   "outputs": [
    {
     "data": {
      "text/plain": [
       "(0.9035532994923858, 0.9491013156531649, 0.9744897959183674)"
      ]
     },
     "execution_count": 1337,
     "metadata": {},
     "output_type": "execute_result"
    }
   ],
   "source": [
    "scores = pd.Series(scores)\n",
    "scores.min(), scores.mean(), scores.max()"
   ]
  },
  {
   "cell_type": "code",
   "execution_count": 1338,
   "id": "e7d873b1",
   "metadata": {},
   "outputs": [
    {
     "name": "stdout",
     "output_type": "stream",
     "text": [
      "Mean Accuracy Scores for MLP 0.9491013156531649\n"
     ]
    }
   ],
   "source": [
    "print('Mean Accuracy Scores for MLP', scores.mean())"
   ]
  },
  {
   "cell_type": "markdown",
   "id": "814bc73d",
   "metadata": {},
   "source": [
    "## CV Score for XGB"
   ]
  },
  {
   "cell_type": "code",
   "execution_count": 1339,
   "id": "91dd3851",
   "metadata": {},
   "outputs": [
    {
     "name": "stderr",
     "output_type": "stream",
     "text": [
      "The least populated class in y has only 1 members, which is less than n_splits=10.\n"
     ]
    },
    {
     "name": "stdout",
     "output_type": "stream",
     "text": [
      "Cross-Validation Accuracy Scores for XGB [0.99492386 0.98984772 0.96954315        nan 0.98469388 0.98469388\n",
      " 0.99489796 0.98469388 0.98979592 0.98469388]\n"
     ]
    },
    {
     "name": "stderr",
     "output_type": "stream",
     "text": [
      "\n",
      "1 fits failed out of a total of 10.\n",
      "The score on these train-test partitions for these parameters will be set to nan.\n",
      "If these failures are not expected, you can try to debug them by setting error_score='raise'.\n",
      "\n",
      "Below are more details about the failures:\n",
      "--------------------------------------------------------------------------------\n",
      "1 fits failed with the following error:\n",
      "Traceback (most recent call last):\n",
      "  File \"/Users/saumenduroy/opt/anaconda3/lib/python3.9/site-packages/sklearn/model_selection/_validation.py\", line 686, in _fit_and_score\n",
      "    estimator.fit(X_train, y_train, **fit_params)\n",
      "  File \"/Users/saumenduroy/opt/anaconda3/lib/python3.9/site-packages/xgboost/core.py\", line 620, in inner_f\n",
      "    return func(**kwargs)\n",
      "  File \"/Users/saumenduroy/opt/anaconda3/lib/python3.9/site-packages/xgboost/sklearn.py\", line 1440, in fit\n",
      "    raise ValueError(\n",
      "ValueError: Invalid classes inferred from unique values of `y`.  Expected: [0 1 2 3 4 5 6], got [0 1 2 3 4 5 7]\n",
      "\n"
     ]
    }
   ],
   "source": [
    "scores = cross_val_score(our_xgb_model, X_train, y_train, cv=10)\n",
    "print('Cross-Validation Accuracy Scores for XGB', scores)"
   ]
  },
  {
   "cell_type": "markdown",
   "id": "8c9bf550",
   "metadata": {},
   "source": [
    "## After CV: Minimum, Mean, and Maximum Value for XGB"
   ]
  },
  {
   "cell_type": "code",
   "execution_count": 1340,
   "id": "5f8cac03",
   "metadata": {},
   "outputs": [
    {
     "data": {
      "text/plain": [
       "(0.9695431472081218, 0.9864204565074761, 0.9949238578680203)"
      ]
     },
     "execution_count": 1340,
     "metadata": {},
     "output_type": "execute_result"
    }
   ],
   "source": [
    "scores = pd.Series(scores)\n",
    "scores.min(), scores.mean(), scores.max()"
   ]
  },
  {
   "cell_type": "code",
   "execution_count": 1341,
   "id": "3e5861b1",
   "metadata": {},
   "outputs": [
    {
     "name": "stdout",
     "output_type": "stream",
     "text": [
      "Mean Accuracy Scores for XGB 0.9864204565074761\n"
     ]
    }
   ],
   "source": [
    "print('Mean Accuracy Scores for XGB', scores.mean())"
   ]
  },
  {
   "cell_type": "markdown",
   "id": "c48f15c3",
   "metadata": {},
   "source": [
    "## CV Score for SVM"
   ]
  },
  {
   "cell_type": "code",
   "execution_count": 1342,
   "id": "095b4059",
   "metadata": {},
   "outputs": [
    {
     "name": "stdout",
     "output_type": "stream",
     "text": [
      "Cross-Validation Accuracy Scores for SVM [0.96446701 0.96446701 0.96446701 0.95939086 0.96428571 0.96428571\n",
      " 0.96428571 0.96428571 0.96428571 0.96428571]\n"
     ]
    },
    {
     "name": "stderr",
     "output_type": "stream",
     "text": [
      "The least populated class in y has only 1 members, which is less than n_splits=10.\n"
     ]
    }
   ],
   "source": [
    "scores = cross_val_score(our_svm_model, X_train, y_train, cv=10)\n",
    "print('Cross-Validation Accuracy Scores for SVM', scores)"
   ]
  },
  {
   "cell_type": "markdown",
   "id": "34f82ffe",
   "metadata": {},
   "source": [
    "## After CV: Minimum, Mean, and Maximum Value for SVM"
   ]
  },
  {
   "cell_type": "code",
   "execution_count": 1343,
   "id": "833c0f57",
   "metadata": {},
   "outputs": [
    {
     "data": {
      "text/plain": [
       "(0.9593908629441624, 0.9638506163886873, 0.9644670050761421)"
      ]
     },
     "execution_count": 1343,
     "metadata": {},
     "output_type": "execute_result"
    }
   ],
   "source": [
    "scores = pd.Series(scores)\n",
    "scores.min(), scores.mean(), scores.max()"
   ]
  },
  {
   "cell_type": "code",
   "execution_count": 1344,
   "id": "5c73ac4b",
   "metadata": {},
   "outputs": [
    {
     "name": "stdout",
     "output_type": "stream",
     "text": [
      "Mean Accuracy Scores for XGB 0.9638506163886873\n"
     ]
    }
   ],
   "source": [
    "print('Mean Accuracy Scores for XGB', scores.mean())"
   ]
  },
  {
   "cell_type": "code",
   "execution_count": null,
   "id": "5b4f20cf",
   "metadata": {},
   "outputs": [],
   "source": []
  }
 ],
 "metadata": {
  "kernelspec": {
   "display_name": "Python 3 (ipykernel)",
   "language": "python",
   "name": "python3"
  },
  "language_info": {
   "codemirror_mode": {
    "name": "ipython",
    "version": 3
   },
   "file_extension": ".py",
   "mimetype": "text/x-python",
   "name": "python",
   "nbconvert_exporter": "python",
   "pygments_lexer": "ipython3",
   "version": "3.9.7"
  }
 },
 "nbformat": 4,
 "nbformat_minor": 5
}
