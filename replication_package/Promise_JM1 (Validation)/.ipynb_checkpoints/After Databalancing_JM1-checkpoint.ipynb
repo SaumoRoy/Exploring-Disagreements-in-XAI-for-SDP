{
 "cells": [
  {
   "cell_type": "markdown",
   "id": "da61d3a8",
   "metadata": {},
   "source": [
    "## Import libraries"
   ]
  },
  {
   "cell_type": "code",
   "execution_count": 1,
   "id": "418ae83a",
   "metadata": {},
   "outputs": [],
   "source": [
    "import numpy as np\n",
    "import pandas as pd\n",
    "import shap\n",
    "import lime\n",
    "import os\n",
    "import pickle\n",
    "\n",
    "\n",
    "from sklearn.ensemble import RandomForestClassifier\n",
    "from sklearn.tree import DecisionTreeClassifier\n",
    "from sklearn.linear_model import LogisticRegression\n",
    "from sklearn.neural_network import MLPClassifier\n",
    "from xgboost import XGBClassifier\n",
    "from sklearn import svm\n",
    "\n",
    "from sklearn import tree\n",
    "import xgboost as xgb\n",
    "from sklearn.datasets import make_regression\n",
    "import sklearn.metrics as metrics\n",
    "from sklearn.metrics import confusion_matrix\n",
    "from sklearn.metrics import precision_score, recall_score, f1_score, accuracy_score\n",
    "from sklearn.preprocessing import StandardScaler\n",
    "\n",
    "from sklearn.model_selection import train_test_split\n",
    "from sklearn.model_selection import cross_val_score\n",
    "\n",
    "\n",
    "import matplotlib.pyplot as plt"
   ]
  },
  {
   "cell_type": "markdown",
   "id": "4e346c8f",
   "metadata": {},
   "source": [
    "## Dataset Importing"
   ]
  },
  {
   "cell_type": "code",
   "execution_count": 3,
   "id": "1cef3bc5",
   "metadata": {},
   "outputs": [],
   "source": [
    "df = pd.read_csv('/Users/saumenduroy/Documents/PhD Life/Explainability + SOAR/Explainers code/JM1_Single dataset and single file/Data/jm1.csv')\n",
    "obj_list = df.columns[df.dtypes == 'object'].values.tolist()\n",
    "for l in obj_list:\n",
    "    df[l] = pd.to_numeric(df[l], errors='coerce')\n",
    "df[\"defects\"] = df[\"defects\"].astype(int)\n",
    "df.dropna(inplace=True)"
   ]
  },
  {
   "cell_type": "code",
   "execution_count": 4,
   "id": "fe50c58d",
   "metadata": {},
   "outputs": [
    {
     "data": {
      "text/plain": [
       "loc                  float64\n",
       "v(g)                 float64\n",
       "ev(g)                float64\n",
       "iv(g)                float64\n",
       "n                    float64\n",
       "v                    float64\n",
       "l                    float64\n",
       "d                    float64\n",
       "i                    float64\n",
       "e                    float64\n",
       "b                    float64\n",
       "t                    float64\n",
       "lOCode                 int64\n",
       "lOComment              int64\n",
       "lOBlank                int64\n",
       "locCodeAndComment      int64\n",
       "uniq_Op              float64\n",
       "uniq_Opnd            float64\n",
       "total_Op             float64\n",
       "total_Opnd           float64\n",
       "branchCount          float64\n",
       "defects                int64\n",
       "dtype: object"
      ]
     },
     "execution_count": 4,
     "metadata": {},
     "output_type": "execute_result"
    }
   ],
   "source": [
    "df.dtypes"
   ]
  },
  {
   "cell_type": "markdown",
   "id": "5fd8a556",
   "metadata": {},
   "source": [
    "## Select a specific row or column from the dataset and dataset splitting"
   ]
  },
  {
   "cell_type": "code",
   "execution_count": 5,
   "id": "88853fe6",
   "metadata": {},
   "outputs": [],
   "source": [
    "X = df.iloc[:, :-1]\n",
    "y = df.iloc[:, -1] \n",
    "\n",
    "X_train, X_test, y_train, y_test = train_test_split(X, y, test_size=0.3, random_state=42)"
   ]
  },
  {
   "cell_type": "markdown",
   "id": "2ccd18ea",
   "metadata": {},
   "source": [
    "## Dataset Balancing"
   ]
  },
  {
   "cell_type": "code",
   "execution_count": 6,
   "id": "81f12468",
   "metadata": {},
   "outputs": [],
   "source": [
    "from imblearn.over_sampling import RandomOverSampler"
   ]
  },
  {
   "cell_type": "code",
   "execution_count": 7,
   "id": "051eb525",
   "metadata": {},
   "outputs": [],
   "source": [
    "from collections import Counter\n",
    "oversample =  RandomOverSampler()\n",
    "X_train,y_train = oversample.fit_resample(X_train,y_train)"
   ]
  },
  {
   "cell_type": "code",
   "execution_count": 8,
   "id": "8b7b0507",
   "metadata": {},
   "outputs": [
    {
     "data": {
      "text/plain": [
       "Counter({0: 6158, 1: 6158})"
      ]
     },
     "execution_count": 8,
     "metadata": {},
     "output_type": "execute_result"
    }
   ],
   "source": [
    "Counter(y_train)"
   ]
  },
  {
   "cell_type": "code",
   "execution_count": 9,
   "id": "db4cd15e",
   "metadata": {},
   "outputs": [
    {
     "data": {
      "text/plain": [
       "Counter({0: 2619, 1: 645})"
      ]
     },
     "execution_count": 9,
     "metadata": {},
     "output_type": "execute_result"
    }
   ],
   "source": [
    "Counter(y_test)"
   ]
  },
  {
   "cell_type": "code",
   "execution_count": 10,
   "id": "c7245370",
   "metadata": {},
   "outputs": [
    {
     "name": "stdout",
     "output_type": "stream",
     "text": [
      "X_Train shape:  (12316, 21)\n",
      "Train label shape:  (12316,)\n",
      "X_Test shape:  (3264, 21)\n",
      "Test label shape:  (3264,)\n"
     ]
    }
   ],
   "source": [
    "print(\"X_Train shape: \", X_train.shape)\n",
    "print(\"Train label shape: \", y_train.shape)\n",
    "print(\"X_Test shape: \", X_test.shape)\n",
    "print(\"Test label shape: \", y_test.shape)"
   ]
  },
  {
   "cell_type": "code",
   "execution_count": 11,
   "id": "1c2f65bd",
   "metadata": {},
   "outputs": [
    {
     "data": {
      "text/html": [
       "<div>\n",
       "<style scoped>\n",
       "    .dataframe tbody tr th:only-of-type {\n",
       "        vertical-align: middle;\n",
       "    }\n",
       "\n",
       "    .dataframe tbody tr th {\n",
       "        vertical-align: top;\n",
       "    }\n",
       "\n",
       "    .dataframe thead th {\n",
       "        text-align: right;\n",
       "    }\n",
       "</style>\n",
       "<table border=\"1\" class=\"dataframe\">\n",
       "  <thead>\n",
       "    <tr style=\"text-align: right;\">\n",
       "      <th></th>\n",
       "      <th>loc</th>\n",
       "      <th>v(g)</th>\n",
       "      <th>ev(g)</th>\n",
       "      <th>iv(g)</th>\n",
       "      <th>n</th>\n",
       "      <th>v</th>\n",
       "      <th>l</th>\n",
       "      <th>d</th>\n",
       "      <th>i</th>\n",
       "      <th>e</th>\n",
       "      <th>...</th>\n",
       "      <th>t</th>\n",
       "      <th>lOCode</th>\n",
       "      <th>lOComment</th>\n",
       "      <th>lOBlank</th>\n",
       "      <th>locCodeAndComment</th>\n",
       "      <th>uniq_Op</th>\n",
       "      <th>uniq_Opnd</th>\n",
       "      <th>total_Op</th>\n",
       "      <th>total_Opnd</th>\n",
       "      <th>branchCount</th>\n",
       "    </tr>\n",
       "  </thead>\n",
       "  <tbody>\n",
       "    <tr>\n",
       "      <th>0</th>\n",
       "      <td>4.0</td>\n",
       "      <td>1.0</td>\n",
       "      <td>1.0</td>\n",
       "      <td>1.0</td>\n",
       "      <td>5.0</td>\n",
       "      <td>11.61</td>\n",
       "      <td>0.67</td>\n",
       "      <td>1.50</td>\n",
       "      <td>7.74</td>\n",
       "      <td>17.41</td>\n",
       "      <td>...</td>\n",
       "      <td>0.97</td>\n",
       "      <td>2</td>\n",
       "      <td>0</td>\n",
       "      <td>0</td>\n",
       "      <td>0</td>\n",
       "      <td>3.0</td>\n",
       "      <td>2.0</td>\n",
       "      <td>3.0</td>\n",
       "      <td>2.0</td>\n",
       "      <td>1.0</td>\n",
       "    </tr>\n",
       "    <tr>\n",
       "      <th>1</th>\n",
       "      <td>7.0</td>\n",
       "      <td>1.0</td>\n",
       "      <td>1.0</td>\n",
       "      <td>1.0</td>\n",
       "      <td>23.0</td>\n",
       "      <td>89.86</td>\n",
       "      <td>0.30</td>\n",
       "      <td>3.33</td>\n",
       "      <td>26.96</td>\n",
       "      <td>299.53</td>\n",
       "      <td>...</td>\n",
       "      <td>16.64</td>\n",
       "      <td>4</td>\n",
       "      <td>0</td>\n",
       "      <td>1</td>\n",
       "      <td>0</td>\n",
       "      <td>6.0</td>\n",
       "      <td>9.0</td>\n",
       "      <td>13.0</td>\n",
       "      <td>10.0</td>\n",
       "      <td>1.0</td>\n",
       "    </tr>\n",
       "    <tr>\n",
       "      <th>2</th>\n",
       "      <td>30.0</td>\n",
       "      <td>3.0</td>\n",
       "      <td>3.0</td>\n",
       "      <td>2.0</td>\n",
       "      <td>0.0</td>\n",
       "      <td>0.00</td>\n",
       "      <td>0.00</td>\n",
       "      <td>0.00</td>\n",
       "      <td>0.00</td>\n",
       "      <td>0.00</td>\n",
       "      <td>...</td>\n",
       "      <td>0.00</td>\n",
       "      <td>0</td>\n",
       "      <td>0</td>\n",
       "      <td>0</td>\n",
       "      <td>0</td>\n",
       "      <td>0.0</td>\n",
       "      <td>0.0</td>\n",
       "      <td>0.0</td>\n",
       "      <td>0.0</td>\n",
       "      <td>5.0</td>\n",
       "    </tr>\n",
       "    <tr>\n",
       "      <th>3</th>\n",
       "      <td>104.0</td>\n",
       "      <td>13.0</td>\n",
       "      <td>10.0</td>\n",
       "      <td>13.0</td>\n",
       "      <td>265.0</td>\n",
       "      <td>1640.30</td>\n",
       "      <td>0.04</td>\n",
       "      <td>27.14</td>\n",
       "      <td>60.44</td>\n",
       "      <td>44517.84</td>\n",
       "      <td>...</td>\n",
       "      <td>2473.21</td>\n",
       "      <td>74</td>\n",
       "      <td>25</td>\n",
       "      <td>3</td>\n",
       "      <td>0</td>\n",
       "      <td>23.0</td>\n",
       "      <td>50.0</td>\n",
       "      <td>147.0</td>\n",
       "      <td>118.0</td>\n",
       "      <td>25.0</td>\n",
       "    </tr>\n",
       "    <tr>\n",
       "      <th>4</th>\n",
       "      <td>17.0</td>\n",
       "      <td>3.0</td>\n",
       "      <td>1.0</td>\n",
       "      <td>3.0</td>\n",
       "      <td>37.0</td>\n",
       "      <td>162.52</td>\n",
       "      <td>0.09</td>\n",
       "      <td>10.67</td>\n",
       "      <td>15.24</td>\n",
       "      <td>1733.50</td>\n",
       "      <td>...</td>\n",
       "      <td>96.31</td>\n",
       "      <td>12</td>\n",
       "      <td>0</td>\n",
       "      <td>3</td>\n",
       "      <td>0</td>\n",
       "      <td>12.0</td>\n",
       "      <td>9.0</td>\n",
       "      <td>21.0</td>\n",
       "      <td>16.0</td>\n",
       "      <td>5.0</td>\n",
       "    </tr>\n",
       "    <tr>\n",
       "      <th>...</th>\n",
       "      <td>...</td>\n",
       "      <td>...</td>\n",
       "      <td>...</td>\n",
       "      <td>...</td>\n",
       "      <td>...</td>\n",
       "      <td>...</td>\n",
       "      <td>...</td>\n",
       "      <td>...</td>\n",
       "      <td>...</td>\n",
       "      <td>...</td>\n",
       "      <td>...</td>\n",
       "      <td>...</td>\n",
       "      <td>...</td>\n",
       "      <td>...</td>\n",
       "      <td>...</td>\n",
       "      <td>...</td>\n",
       "      <td>...</td>\n",
       "      <td>...</td>\n",
       "      <td>...</td>\n",
       "      <td>...</td>\n",
       "      <td>...</td>\n",
       "    </tr>\n",
       "    <tr>\n",
       "      <th>12311</th>\n",
       "      <td>60.0</td>\n",
       "      <td>7.0</td>\n",
       "      <td>5.0</td>\n",
       "      <td>7.0</td>\n",
       "      <td>141.0</td>\n",
       "      <td>750.39</td>\n",
       "      <td>0.07</td>\n",
       "      <td>14.69</td>\n",
       "      <td>51.10</td>\n",
       "      <td>11019.64</td>\n",
       "      <td>...</td>\n",
       "      <td>612.20</td>\n",
       "      <td>41</td>\n",
       "      <td>8</td>\n",
       "      <td>9</td>\n",
       "      <td>0</td>\n",
       "      <td>13.0</td>\n",
       "      <td>27.0</td>\n",
       "      <td>80.0</td>\n",
       "      <td>61.0</td>\n",
       "      <td>13.0</td>\n",
       "    </tr>\n",
       "    <tr>\n",
       "      <th>12312</th>\n",
       "      <td>67.0</td>\n",
       "      <td>5.0</td>\n",
       "      <td>1.0</td>\n",
       "      <td>4.0</td>\n",
       "      <td>309.0</td>\n",
       "      <td>1725.75</td>\n",
       "      <td>0.03</td>\n",
       "      <td>32.04</td>\n",
       "      <td>53.85</td>\n",
       "      <td>55302.55</td>\n",
       "      <td>...</td>\n",
       "      <td>3072.36</td>\n",
       "      <td>52</td>\n",
       "      <td>1</td>\n",
       "      <td>8</td>\n",
       "      <td>0</td>\n",
       "      <td>15.0</td>\n",
       "      <td>32.0</td>\n",
       "      <td>167.0</td>\n",
       "      <td>140.0</td>\n",
       "      <td>9.0</td>\n",
       "    </tr>\n",
       "    <tr>\n",
       "      <th>12313</th>\n",
       "      <td>74.0</td>\n",
       "      <td>13.0</td>\n",
       "      <td>6.0</td>\n",
       "      <td>8.0</td>\n",
       "      <td>205.0</td>\n",
       "      <td>1105.43</td>\n",
       "      <td>0.03</td>\n",
       "      <td>29.24</td>\n",
       "      <td>37.81</td>\n",
       "      <td>32322.63</td>\n",
       "      <td>...</td>\n",
       "      <td>1795.70</td>\n",
       "      <td>50</td>\n",
       "      <td>12</td>\n",
       "      <td>10</td>\n",
       "      <td>0</td>\n",
       "      <td>17.0</td>\n",
       "      <td>25.0</td>\n",
       "      <td>119.0</td>\n",
       "      <td>86.0</td>\n",
       "      <td>25.0</td>\n",
       "    </tr>\n",
       "    <tr>\n",
       "      <th>12314</th>\n",
       "      <td>190.0</td>\n",
       "      <td>39.0</td>\n",
       "      <td>3.0</td>\n",
       "      <td>35.0</td>\n",
       "      <td>695.0</td>\n",
       "      <td>4757.62</td>\n",
       "      <td>0.03</td>\n",
       "      <td>30.71</td>\n",
       "      <td>154.91</td>\n",
       "      <td>146112.75</td>\n",
       "      <td>...</td>\n",
       "      <td>8117.38</td>\n",
       "      <td>155</td>\n",
       "      <td>0</td>\n",
       "      <td>33</td>\n",
       "      <td>0</td>\n",
       "      <td>18.0</td>\n",
       "      <td>97.0</td>\n",
       "      <td>364.0</td>\n",
       "      <td>331.0</td>\n",
       "      <td>77.0</td>\n",
       "    </tr>\n",
       "    <tr>\n",
       "      <th>12315</th>\n",
       "      <td>77.0</td>\n",
       "      <td>9.0</td>\n",
       "      <td>4.0</td>\n",
       "      <td>8.0</td>\n",
       "      <td>235.0</td>\n",
       "      <td>1358.62</td>\n",
       "      <td>0.03</td>\n",
       "      <td>32.34</td>\n",
       "      <td>42.01</td>\n",
       "      <td>43942.85</td>\n",
       "      <td>...</td>\n",
       "      <td>2441.27</td>\n",
       "      <td>63</td>\n",
       "      <td>2</td>\n",
       "      <td>10</td>\n",
       "      <td>0</td>\n",
       "      <td>23.0</td>\n",
       "      <td>32.0</td>\n",
       "      <td>145.0</td>\n",
       "      <td>90.0</td>\n",
       "      <td>17.0</td>\n",
       "    </tr>\n",
       "  </tbody>\n",
       "</table>\n",
       "<p>12316 rows × 21 columns</p>\n",
       "</div>"
      ],
      "text/plain": [
       "         loc  v(g)  ev(g)  iv(g)      n        v     l      d       i  \\\n",
       "0        4.0   1.0    1.0    1.0    5.0    11.61  0.67   1.50    7.74   \n",
       "1        7.0   1.0    1.0    1.0   23.0    89.86  0.30   3.33   26.96   \n",
       "2       30.0   3.0    3.0    2.0    0.0     0.00  0.00   0.00    0.00   \n",
       "3      104.0  13.0   10.0   13.0  265.0  1640.30  0.04  27.14   60.44   \n",
       "4       17.0   3.0    1.0    3.0   37.0   162.52  0.09  10.67   15.24   \n",
       "...      ...   ...    ...    ...    ...      ...   ...    ...     ...   \n",
       "12311   60.0   7.0    5.0    7.0  141.0   750.39  0.07  14.69   51.10   \n",
       "12312   67.0   5.0    1.0    4.0  309.0  1725.75  0.03  32.04   53.85   \n",
       "12313   74.0  13.0    6.0    8.0  205.0  1105.43  0.03  29.24   37.81   \n",
       "12314  190.0  39.0    3.0   35.0  695.0  4757.62  0.03  30.71  154.91   \n",
       "12315   77.0   9.0    4.0    8.0  235.0  1358.62  0.03  32.34   42.01   \n",
       "\n",
       "               e  ...        t  lOCode  lOComment  lOBlank  locCodeAndComment  \\\n",
       "0          17.41  ...     0.97       2          0        0                  0   \n",
       "1         299.53  ...    16.64       4          0        1                  0   \n",
       "2           0.00  ...     0.00       0          0        0                  0   \n",
       "3       44517.84  ...  2473.21      74         25        3                  0   \n",
       "4        1733.50  ...    96.31      12          0        3                  0   \n",
       "...          ...  ...      ...     ...        ...      ...                ...   \n",
       "12311   11019.64  ...   612.20      41          8        9                  0   \n",
       "12312   55302.55  ...  3072.36      52          1        8                  0   \n",
       "12313   32322.63  ...  1795.70      50         12       10                  0   \n",
       "12314  146112.75  ...  8117.38     155          0       33                  0   \n",
       "12315   43942.85  ...  2441.27      63          2       10                  0   \n",
       "\n",
       "       uniq_Op  uniq_Opnd  total_Op  total_Opnd  branchCount  \n",
       "0          3.0        2.0       3.0         2.0          1.0  \n",
       "1          6.0        9.0      13.0        10.0          1.0  \n",
       "2          0.0        0.0       0.0         0.0          5.0  \n",
       "3         23.0       50.0     147.0       118.0         25.0  \n",
       "4         12.0        9.0      21.0        16.0          5.0  \n",
       "...        ...        ...       ...         ...          ...  \n",
       "12311     13.0       27.0      80.0        61.0         13.0  \n",
       "12312     15.0       32.0     167.0       140.0          9.0  \n",
       "12313     17.0       25.0     119.0        86.0         25.0  \n",
       "12314     18.0       97.0     364.0       331.0         77.0  \n",
       "12315     23.0       32.0     145.0        90.0         17.0  \n",
       "\n",
       "[12316 rows x 21 columns]"
      ]
     },
     "execution_count": 11,
     "metadata": {},
     "output_type": "execute_result"
    }
   ],
   "source": [
    "X_train"
   ]
  },
  {
   "cell_type": "code",
   "execution_count": 12,
   "id": "2e3fced5",
   "metadata": {},
   "outputs": [
    {
     "data": {
      "text/plain": [
       "Index(['loc', 'v(g)', 'ev(g)', 'iv(g)', 'n', 'v', 'l', 'd', 'i', 'e', 'b', 't',\n",
       "       'lOCode', 'lOComment', 'lOBlank', 'locCodeAndComment', 'uniq_Op',\n",
       "       'uniq_Opnd', 'total_Op', 'total_Opnd', 'branchCount', 'defects'],\n",
       "      dtype='object')"
      ]
     },
     "execution_count": 12,
     "metadata": {},
     "output_type": "execute_result"
    }
   ],
   "source": [
    "df.columns"
   ]
  },
  {
   "cell_type": "markdown",
   "id": "78546eb8",
   "metadata": {},
   "source": [
    "## Checking the null value"
   ]
  },
  {
   "cell_type": "code",
   "execution_count": 13,
   "id": "523d044d",
   "metadata": {},
   "outputs": [
    {
     "data": {
      "text/plain": [
       "loc                  0\n",
       "v(g)                 0\n",
       "ev(g)                0\n",
       "iv(g)                0\n",
       "n                    0\n",
       "v                    0\n",
       "l                    0\n",
       "d                    0\n",
       "i                    0\n",
       "e                    0\n",
       "b                    0\n",
       "t                    0\n",
       "lOCode               0\n",
       "lOComment            0\n",
       "lOBlank              0\n",
       "locCodeAndComment    0\n",
       "uniq_Op              0\n",
       "uniq_Opnd            0\n",
       "total_Op             0\n",
       "total_Opnd           0\n",
       "branchCount          0\n",
       "defects              0\n",
       "dtype: int64"
      ]
     },
     "execution_count": 13,
     "metadata": {},
     "output_type": "execute_result"
    }
   ],
   "source": [
    "df.isnull().sum()"
   ]
  },
  {
   "cell_type": "code",
   "execution_count": null,
   "id": "d165c133",
   "metadata": {},
   "outputs": [],
   "source": []
  },
  {
   "cell_type": "code",
   "execution_count": null,
   "id": "729dbb2a",
   "metadata": {},
   "outputs": [],
   "source": []
  },
  {
   "cell_type": "code",
   "execution_count": 72,
   "id": "6f3d8749",
   "metadata": {},
   "outputs": [],
   "source": [
    "#our_rf_model = RandomForestClassifier(random_state=0)\n",
    "#our_rf_model.fit(X_train, y_train) "
   ]
  },
  {
   "cell_type": "code",
   "execution_count": 14,
   "id": "8fb9189e",
   "metadata": {},
   "outputs": [],
   "source": [
    "## For SVM data fitting\n",
    "from sklearn.preprocessing import LabelEncoder\n",
    "le = LabelEncoder()\n",
    "y_train = le.fit_transform(y_train)"
   ]
  },
  {
   "cell_type": "markdown",
   "id": "33b6a273",
   "metadata": {},
   "source": [
    "## Create classifier object, Train, and Test "
   ]
  },
  {
   "cell_type": "code",
   "execution_count": 15,
   "id": "02fa0141",
   "metadata": {},
   "outputs": [],
   "source": [
    "# Create classifer object\n",
    "our_rf_model = RandomForestClassifier()\n",
    "our_dt_model = DecisionTreeClassifier()\n",
    "our_lr_model = LogisticRegression()\n",
    "our_mlp_model = MLPClassifier()\n",
    "our_xgb_model = XGBClassifier()\n",
    "our_svm_model = svm.SVC()\n",
    "\n",
    "# Train Classifer\n",
    "our_rf_model = our_rf_model.fit(X_train,y_train)\n",
    "our_dt_model = our_dt_model.fit(X_train,y_train)\n",
    "our_lr_model = our_lr_model.fit(X_train,y_train)\n",
    "our_mlp_model = our_mlp_model.fit(X_train,y_train)\n",
    "our_xgb_model = our_xgb_model.fit(X_train,y_train)\n",
    "our_svm_model = our_svm_model.fit(X_train [:500], y_train[:500])\n",
    "\n",
    "#Predict the response for test dataset\n",
    "\n",
    "y_pred_our_rf_model = our_rf_model.predict(X_test)\n",
    "y_pred_our_dt_model = our_dt_model.predict(X_test)\n",
    "y_pred_our_lr_model = our_lr_model.predict(X_test)\n",
    "y_pred_our_mlp_model = our_mlp_model.predict(X_test)\n",
    "y_pred_our_xgb_model = our_xgb_model.predict(X_test)\n",
    "y_pred_our_svm_model = our_svm_model.predict(X_test)"
   ]
  },
  {
   "cell_type": "markdown",
   "id": "f423f714",
   "metadata": {},
   "source": [
    "## Measuring Accuracy"
   ]
  },
  {
   "cell_type": "code",
   "execution_count": 75,
   "id": "c54ee37f",
   "metadata": {},
   "outputs": [
    {
     "name": "stdout",
     "output_type": "stream",
     "text": [
      "Accuracy for Random Forest (RF): 0.7935049019607843\n",
      "Accuracy for Decission Tree (DT): 0.7392769607843137\n",
      "Accuracy for Logistic Regression (LR): 0.3471200980392157\n",
      "Accuracy for Multi-Layer Perceptron Neural Network (MLP): 0.3789828431372549\n",
      "Accuracy for Gradient Boosting (XGB): 0.7552083333333334\n",
      "Accuracy for Support Vector Machine (SVM): 0.8017769607843137\n"
     ]
    }
   ],
   "source": [
    "# Model Accuracy, how often is the classifier correct?\n",
    "print(\"Accuracy for Random Forest (RF):\",metrics.accuracy_score(y_test, y_pred_our_rf_model))\n",
    "print(\"Accuracy for Decission Tree (DT):\",metrics.accuracy_score(y_test, y_pred_our_dt_model))\n",
    "print(\"Accuracy for Logistic Regression (LR):\",metrics.accuracy_score(y_test, y_pred_our_lr_model))\n",
    "print(\"Accuracy for Multi-Layer Perceptron Neural Network (MLP):\",metrics.accuracy_score(y_test, y_pred_our_mlp_model))\n",
    "print(\"Accuracy for Gradient Boosting (XGB):\",metrics.accuracy_score(y_test, y_pred_our_xgb_model))\n",
    "print(\"Accuracy for Support Vector Machine (SVM):\",metrics.accuracy_score(y_test, y_pred_our_svm_model))\n"
   ]
  },
  {
   "cell_type": "markdown",
   "id": "9fb09984",
   "metadata": {},
   "source": [
    "## Precision, Recall, and f1 Score, and AUC for RF"
   ]
  },
  {
   "cell_type": "code",
   "execution_count": 76,
   "id": "64a3cfa4",
   "metadata": {},
   "outputs": [
    {
     "name": "stdout",
     "output_type": "stream",
     "text": [
      "Precision: 0.659836825307488\n",
      "Recall: 0.6270953763641369\n",
      "f1 score: 0.6388337273443656\n"
     ]
    }
   ],
   "source": [
    "print(\"Precision:\",metrics.precision_score(y_test, y_pred_our_rf_model, average = \"macro\"))\n",
    "print(\"Recall:\",metrics.recall_score(y_test, y_pred_our_rf_model, average = \"macro\"))\n",
    "print(\"f1 score:\",metrics.f1_score(y_test,y_pred_our_rf_model, average = \"macro\"))"
   ]
  },
  {
   "cell_type": "code",
   "execution_count": 77,
   "id": "a95447a1",
   "metadata": {},
   "outputs": [
    {
     "name": "stdout",
     "output_type": "stream",
     "text": [
      "[0.3729046236358632, 0.6270953763641369]\n",
      "AUC for RF: 0.5\n"
     ]
    }
   ],
   "source": [
    "from sklearn import metrics\n",
    "u_value= list(y_test.unique())\n",
    "all_auc = []\n",
    "for i in u_value:\n",
    "    fpr, tpr, thresholds = metrics.roc_curve(y_test, y_pred_our_rf_model, pos_label=i)\n",
    "    all_auc.append(metrics.auc(fpr, tpr))\n",
    "print(all_auc)\n",
    "print(\"AUC for RF:\",sum(all_auc)/len(all_auc))"
   ]
  },
  {
   "cell_type": "code",
   "execution_count": 78,
   "id": "dc48829e",
   "metadata": {},
   "outputs": [
    {
     "data": {
      "text/plain": [
       "[0, 1]"
      ]
     },
     "execution_count": 78,
     "metadata": {},
     "output_type": "execute_result"
    }
   ],
   "source": [
    "list(y_test.unique())"
   ]
  },
  {
   "cell_type": "markdown",
   "id": "22fa9b4a",
   "metadata": {},
   "source": [
    "## Precision, Recall, and f1 Score, and AUC for DT"
   ]
  },
  {
   "cell_type": "code",
   "execution_count": 79,
   "id": "bd1e680a",
   "metadata": {},
   "outputs": [
    {
     "name": "stdout",
     "output_type": "stream",
     "text": [
      "Precision: 0.5917085602569474\n",
      "Recall: 0.5933038528818917\n",
      "f1 score: 0.5924797700709286\n"
     ]
    }
   ],
   "source": [
    "print(\"Precision:\",metrics.precision_score(y_test, y_pred_our_dt_model, average = \"macro\"))\n",
    "print(\"Recall:\",metrics.recall_score(y_test, y_pred_our_dt_model, average = \"macro\"))\n",
    "print(\"f1 score:\",metrics.f1_score(y_test,y_pred_our_dt_model, average = \"macro\"))"
   ]
  },
  {
   "cell_type": "code",
   "execution_count": 80,
   "id": "810f1c20",
   "metadata": {},
   "outputs": [
    {
     "name": "stdout",
     "output_type": "stream",
     "text": [
      "[0.40669614711810825, 0.5933038528818918]\n",
      "AUC for DT: 0.5\n"
     ]
    }
   ],
   "source": [
    "from sklearn import metrics\n",
    "u_value= list(y_test.unique())\n",
    "all_auc = []\n",
    "for i in u_value:\n",
    "    fpr, tpr, thresholds = metrics.roc_curve(y_test, y_pred_our_dt_model, pos_label=i)\n",
    "    all_auc.append(metrics.auc(fpr, tpr))\n",
    "print(all_auc)\n",
    "print(\"AUC for DT:\",sum(all_auc)/len(all_auc))"
   ]
  },
  {
   "cell_type": "markdown",
   "id": "0852fd30",
   "metadata": {},
   "source": [
    "## Precision, Recall, and f1 Score, and AUC for LR"
   ]
  },
  {
   "cell_type": "code",
   "execution_count": 81,
   "id": "84ebf9d7",
   "metadata": {},
   "outputs": [
    {
     "name": "stdout",
     "output_type": "stream",
     "text": [
      "Precision: 0.3471200980392157\n",
      "Recall: 0.5604455810401627\n",
      "f1 score: 0.3469959783774771\n"
     ]
    }
   ],
   "source": [
    "print(\"Precision:\",metrics.precision_score(y_test, y_pred_our_lr_model, average = \"micro\"))\n",
    "print(\"Recall:\",metrics.recall_score(y_test, y_pred_our_lr_model, average = \"macro\"))\n",
    "print(\"f1 score:\",metrics.f1_score(y_test,y_pred_our_lr_model, average = \"macro\"))"
   ]
  },
  {
   "cell_type": "code",
   "execution_count": 82,
   "id": "4937d00e",
   "metadata": {},
   "outputs": [
    {
     "name": "stdout",
     "output_type": "stream",
     "text": [
      "[0.43955441895983727, 0.5604455810401627]\n",
      "AUC for LR: 0.5\n"
     ]
    }
   ],
   "source": [
    "from sklearn import metrics\n",
    "u_value= list(y_test.unique())\n",
    "all_auc = []\n",
    "for i in u_value:\n",
    "    fpr, tpr, thresholds = metrics.roc_curve(y_test, y_pred_our_lr_model, pos_label=i)\n",
    "    all_auc.append(metrics.auc(fpr, tpr))\n",
    "print(all_auc)\n",
    "print(\"AUC for LR:\",sum(all_auc)/len(all_auc))"
   ]
  },
  {
   "cell_type": "markdown",
   "id": "255e31df",
   "metadata": {},
   "source": [
    "## Precision, Recall, and f1 Score, and AUC for MLP"
   ]
  },
  {
   "cell_type": "code",
   "execution_count": 83,
   "id": "efa952b5",
   "metadata": {},
   "outputs": [
    {
     "name": "stdout",
     "output_type": "stream",
     "text": [
      "Precision: 0.5430613967255349\n",
      "Recall: 0.5505021444364527\n",
      "f1 score: 0.37746819066079207\n"
     ]
    }
   ],
   "source": [
    "print(\"Precision:\",metrics.precision_score(y_test, y_pred_our_mlp_model, average = \"macro\"))\n",
    "print(\"Recall:\",metrics.recall_score(y_test, y_pred_our_mlp_model, average = \"macro\"))\n",
    "print(\"f1 score:\",metrics.f1_score(y_test,y_pred_our_mlp_model, average = \"macro\"))"
   ]
  },
  {
   "cell_type": "code",
   "execution_count": 84,
   "id": "930b09ba",
   "metadata": {},
   "outputs": [
    {
     "name": "stdout",
     "output_type": "stream",
     "text": [
      "[0.44949785556354727, 0.5505021444364528]\n",
      "AUC for MLP: 0.5\n"
     ]
    }
   ],
   "source": [
    "from sklearn import metrics\n",
    "u_value= list(y_test.unique())\n",
    "all_auc = []\n",
    "for i in u_value:\n",
    "    fpr, tpr, thresholds = metrics.roc_curve(y_test, y_pred_our_mlp_model, pos_label=i)\n",
    "    all_auc.append(metrics.auc(fpr, tpr))\n",
    "print(all_auc)\n",
    "print(\"AUC for MLP:\",sum(all_auc)/len(all_auc))"
   ]
  },
  {
   "cell_type": "markdown",
   "id": "1e5fae17",
   "metadata": {},
   "source": [
    "## Precision, Recall, and f1 Score, and AUC for XGB"
   ]
  },
  {
   "cell_type": "code",
   "execution_count": 85,
   "id": "890e671a",
   "metadata": {},
   "outputs": [
    {
     "name": "stdout",
     "output_type": "stream",
     "text": [
      "Precision: 0.6273895811569073\n",
      "Recall: 0.6400410240017049\n",
      "f1 score: 0.6327094357543324\n"
     ]
    }
   ],
   "source": [
    "print(\"Precision:\",metrics.precision_score(y_test, y_pred_our_xgb_model, average = \"macro\"))\n",
    "print(\"Recall:\",metrics.recall_score(y_test, y_pred_our_xgb_model, average = \"macro\"))\n",
    "print(\"f1 score:\",metrics.f1_score(y_test,y_pred_our_xgb_model, average = \"macro\"))"
   ]
  },
  {
   "cell_type": "code",
   "execution_count": 86,
   "id": "76053119",
   "metadata": {},
   "outputs": [
    {
     "name": "stdout",
     "output_type": "stream",
     "text": [
      "[0.35995897599829507, 0.6400410240017048]\n",
      "AUC for XGB: 0.49999999999999994\n"
     ]
    }
   ],
   "source": [
    "from sklearn import metrics\n",
    "u_value= list(y_test.unique())\n",
    "all_auc = []\n",
    "for i in u_value:\n",
    "    fpr, tpr, thresholds = metrics.roc_curve(y_test, y_pred_our_xgb_model, pos_label=i)\n",
    "    all_auc.append(metrics.auc(fpr, tpr))\n",
    "print(all_auc)\n",
    "print(\"AUC for XGB:\",sum(all_auc)/len(all_auc))"
   ]
  },
  {
   "cell_type": "markdown",
   "id": "fa638143",
   "metadata": {},
   "source": [
    "## Precision, Recall, and f1 Score, and AUC for SVM"
   ]
  },
  {
   "cell_type": "code",
   "execution_count": 87,
   "id": "c3c80003",
   "metadata": {},
   "outputs": [
    {
     "name": "stdout",
     "output_type": "stream",
     "text": [
      "Precision: 0.8017769607843137\n",
      "Recall: 0.8017769607843137\n",
      "f1 score: 0.8017769607843137\n"
     ]
    }
   ],
   "source": [
    "print(\"Precision:\",metrics.precision_score(y_test, y_pred_our_svm_model, average = \"micro\"))\n",
    "print(\"Recall:\",metrics.recall_score(y_test, y_pred_our_svm_model, average = \"micro\"))\n",
    "print(\"f1 score:\",metrics.f1_score(y_test,y_pred_our_svm_model, average = \"micro\"))"
   ]
  },
  {
   "cell_type": "code",
   "execution_count": 88,
   "id": "bbcb5507",
   "metadata": {},
   "outputs": [
    {
     "name": "stdout",
     "output_type": "stream",
     "text": [
      "[0.49979754388769015, 0.5002024561123098]\n",
      "AUC for SVM: 0.5\n"
     ]
    }
   ],
   "source": [
    "from sklearn import metrics\n",
    "u_value= list(y_test.unique())\n",
    "all_auc = []\n",
    "for i in u_value:\n",
    "    fpr, tpr, thresholds = metrics.roc_curve(y_test, y_pred_our_svm_model, pos_label=i)\n",
    "    all_auc.append(metrics.auc(fpr, tpr))\n",
    "print(all_auc)\n",
    "print(\"AUC for SVM:\",sum(all_auc)/len(all_auc))"
   ]
  },
  {
   "cell_type": "markdown",
   "id": "84160cf0",
   "metadata": {},
   "source": [
    "## CV Score for RF"
   ]
  },
  {
   "cell_type": "code",
   "execution_count": 89,
   "id": "32b93688",
   "metadata": {},
   "outputs": [
    {
     "name": "stdout",
     "output_type": "stream",
     "text": [
      "Cross-Validation Accuracy Scores for RF [0.93425325 0.91720779 0.94237013 0.92694805 0.94399351 0.93100649\n",
      " 0.93501219 0.94069862 0.93338749 0.94232331]\n"
     ]
    }
   ],
   "source": [
    "scores = cross_val_score(our_rf_model, X_train, y_train, cv=10)\n",
    "print('Cross-Validation Accuracy Scores for RF', scores)"
   ]
  },
  {
   "cell_type": "markdown",
   "id": "301ea177",
   "metadata": {},
   "source": [
    "## After CV: Minimum, Mean, and Maximum Value for RF"
   ]
  },
  {
   "cell_type": "code",
   "execution_count": 90,
   "id": "c78af46c",
   "metadata": {},
   "outputs": [
    {
     "data": {
      "text/plain": [
       "(0.9172077922077922, 0.9347200829227635, 0.9439935064935064)"
      ]
     },
     "execution_count": 90,
     "metadata": {},
     "output_type": "execute_result"
    }
   ],
   "source": [
    "scores = pd.Series(scores)\n",
    "scores.min(), scores.mean(), scores.max()"
   ]
  },
  {
   "cell_type": "code",
   "execution_count": 91,
   "id": "85c03b76",
   "metadata": {},
   "outputs": [
    {
     "name": "stdout",
     "output_type": "stream",
     "text": [
      "Mean Accuracy Scores for RF 0.9347200829227635\n"
     ]
    }
   ],
   "source": [
    "print('Mean Accuracy Scores for RF', scores.mean())"
   ]
  },
  {
   "cell_type": "markdown",
   "id": "8ce3590e",
   "metadata": {},
   "source": [
    "## CV Score for DT"
   ]
  },
  {
   "cell_type": "code",
   "execution_count": 92,
   "id": "fc27f709",
   "metadata": {},
   "outputs": [
    {
     "name": "stdout",
     "output_type": "stream",
     "text": [
      "Cross-Validation Accuracy Scores for DT [0.89123377 0.9025974  0.9099026  0.90909091 0.90746753 0.88961039\n",
      " 0.89358245 0.89926889 0.8960195  0.90495532]\n"
     ]
    }
   ],
   "source": [
    "scores = cross_val_score(our_dt_model, X_train, y_train, cv=10)\n",
    "print('Cross-Validation Accuracy Scores for DT', scores)"
   ]
  },
  {
   "cell_type": "markdown",
   "id": "ab11d8a2",
   "metadata": {},
   "source": [
    "## After CV: Minimum, Mean, and Maximum Value for DT"
   ]
  },
  {
   "cell_type": "code",
   "execution_count": 93,
   "id": "7db75f74",
   "metadata": {},
   "outputs": [
    {
     "data": {
      "text/plain": [
       "(0.8896103896103896, 0.9003728754998047, 0.9099025974025974)"
      ]
     },
     "execution_count": 93,
     "metadata": {},
     "output_type": "execute_result"
    }
   ],
   "source": [
    "scores = pd.Series(scores)\n",
    "scores.min(), scores.mean(), scores.max()"
   ]
  },
  {
   "cell_type": "code",
   "execution_count": 94,
   "id": "e92c8eb9",
   "metadata": {},
   "outputs": [
    {
     "name": "stdout",
     "output_type": "stream",
     "text": [
      "Mean Accuracy Scores for DT 0.9003728754998047\n"
     ]
    }
   ],
   "source": [
    "print('Mean Accuracy Scores for DT', scores.mean())"
   ]
  },
  {
   "cell_type": "markdown",
   "id": "2dac6f33",
   "metadata": {},
   "source": [
    "## CV Score for LR"
   ]
  },
  {
   "cell_type": "code",
   "execution_count": 95,
   "id": "dfbfea46",
   "metadata": {},
   "outputs": [
    {
     "name": "stdout",
     "output_type": "stream",
     "text": [
      "Cross-Validation Accuracy Scores for LR [0.62743506 0.56737013 0.5        0.5        0.65422078 0.59577922\n",
      " 0.61575955 0.63281885 0.63525589 0.56376929]\n"
     ]
    },
    {
     "name": "stderr",
     "output_type": "stream",
     "text": [
      "lbfgs failed to converge (status=1):\n",
      "STOP: TOTAL NO. of ITERATIONS REACHED LIMIT.\n",
      "\n",
      "Increase the number of iterations (max_iter) or scale the data as shown in:\n",
      "    https://scikit-learn.org/stable/modules/preprocessing.html\n",
      "Please also refer to the documentation for alternative solver options:\n",
      "    https://scikit-learn.org/stable/modules/linear_model.html#logistic-regression\n",
      "lbfgs failed to converge (status=1):\n",
      "STOP: TOTAL NO. of ITERATIONS REACHED LIMIT.\n",
      "\n",
      "Increase the number of iterations (max_iter) or scale the data as shown in:\n",
      "    https://scikit-learn.org/stable/modules/preprocessing.html\n",
      "Please also refer to the documentation for alternative solver options:\n",
      "    https://scikit-learn.org/stable/modules/linear_model.html#logistic-regression\n"
     ]
    }
   ],
   "source": [
    "scores = cross_val_score(our_lr_model, X_train, y_train, cv=10)\n",
    "print('Cross-Validation Accuracy Scores for LR', scores)"
   ]
  },
  {
   "cell_type": "markdown",
   "id": "2671272a",
   "metadata": {},
   "source": [
    "## After CV: Minimum, Mean, and Maximum Value for LR"
   ]
  },
  {
   "cell_type": "code",
   "execution_count": 96,
   "id": "789406c9",
   "metadata": {},
   "outputs": [
    {
     "data": {
      "text/plain": [
       "(0.5, 0.5892408769135008, 0.6542207792207793)"
      ]
     },
     "execution_count": 96,
     "metadata": {},
     "output_type": "execute_result"
    }
   ],
   "source": [
    "scores = pd.Series(scores)\n",
    "scores.min(), scores.mean(), scores.max()"
   ]
  },
  {
   "cell_type": "code",
   "execution_count": 97,
   "id": "9601794b",
   "metadata": {},
   "outputs": [
    {
     "name": "stdout",
     "output_type": "stream",
     "text": [
      "Mean Accuracy Scores for LR 0.5892408769135008\n"
     ]
    }
   ],
   "source": [
    "print('Mean Accuracy Scores for LR', scores.mean())"
   ]
  },
  {
   "cell_type": "markdown",
   "id": "6bcf57a5",
   "metadata": {},
   "source": [
    "## CV Score for MLP"
   ]
  },
  {
   "cell_type": "code",
   "execution_count": 98,
   "id": "ebe7f6bc",
   "metadata": {},
   "outputs": [
    {
     "name": "stdout",
     "output_type": "stream",
     "text": [
      "Cross-Validation Accuracy Scores for MLP [0.61688312 0.64123377 0.59902597 0.61038961 0.63149351 0.61201299\n",
      " 0.64825345 0.61413485 0.51990252 0.528026  ]\n"
     ]
    }
   ],
   "source": [
    "scores = cross_val_score(our_mlp_model, X_train, y_train, cv=10)\n",
    "print('Cross-Validation Accuracy Scores for MLP', scores)"
   ]
  },
  {
   "cell_type": "markdown",
   "id": "3936358c",
   "metadata": {},
   "source": [
    "## After CV: Minimum, Mean, and Maximum Value for MLP "
   ]
  },
  {
   "cell_type": "code",
   "execution_count": 99,
   "id": "88582931",
   "metadata": {},
   "outputs": [
    {
     "data": {
      "text/plain": [
       "(0.5199025182778229, 0.6021355776636036, 0.6482534524776604)"
      ]
     },
     "execution_count": 99,
     "metadata": {},
     "output_type": "execute_result"
    }
   ],
   "source": [
    "scores = pd.Series(scores)\n",
    "scores.min(), scores.mean(), scores.max()"
   ]
  },
  {
   "cell_type": "code",
   "execution_count": 100,
   "id": "e7d873b1",
   "metadata": {},
   "outputs": [
    {
     "name": "stdout",
     "output_type": "stream",
     "text": [
      "Mean Accuracy Scores for MLP 0.6021355776636036\n"
     ]
    }
   ],
   "source": [
    "print('Mean Accuracy Scores for MLP', scores.mean())"
   ]
  },
  {
   "cell_type": "markdown",
   "id": "814bc73d",
   "metadata": {},
   "source": [
    "## CV Score for XGB"
   ]
  },
  {
   "cell_type": "code",
   "execution_count": 101,
   "id": "91dd3851",
   "metadata": {},
   "outputs": [
    {
     "name": "stdout",
     "output_type": "stream",
     "text": [
      "Cross-Validation Accuracy Scores for XGB [0.8612013  0.86525974 0.85957792 0.86688312 0.88311688 0.85876623\n",
      " 0.89195776 0.87652315 0.86433794 0.87246141]\n"
     ]
    }
   ],
   "source": [
    "scores = cross_val_score(our_xgb_model, X_train, y_train, cv=10)\n",
    "print('Cross-Validation Accuracy Scores for XGB', scores)"
   ]
  },
  {
   "cell_type": "markdown",
   "id": "8c9bf550",
   "metadata": {},
   "source": [
    "## After CV: Minimum, Mean, and Maximum Value for XGB"
   ]
  },
  {
   "cell_type": "code",
   "execution_count": 102,
   "id": "5f8cac03",
   "metadata": {},
   "outputs": [
    {
     "data": {
      "text/plain": [
       "(0.8587662337662337, 0.8700085454756454, 0.8919577579203899)"
      ]
     },
     "execution_count": 102,
     "metadata": {},
     "output_type": "execute_result"
    }
   ],
   "source": [
    "scores = pd.Series(scores)\n",
    "scores.min(), scores.mean(), scores.max()"
   ]
  },
  {
   "cell_type": "code",
   "execution_count": 103,
   "id": "3e5861b1",
   "metadata": {},
   "outputs": [
    {
     "name": "stdout",
     "output_type": "stream",
     "text": [
      "Mean Accuracy Scores for XGB 0.8700085454756454\n"
     ]
    }
   ],
   "source": [
    "print('Mean Accuracy Scores for XGB', scores.mean())"
   ]
  },
  {
   "cell_type": "markdown",
   "id": "c48f15c3",
   "metadata": {},
   "source": [
    "## CV Score for SVM"
   ]
  },
  {
   "cell_type": "code",
   "execution_count": 104,
   "id": "095b4059",
   "metadata": {},
   "outputs": [
    {
     "name": "stdout",
     "output_type": "stream",
     "text": [
      "Cross-Validation Accuracy Scores for SVM [0.56899351 0.58035714 0.57467532 0.56006494 0.59090909 0.56818182\n",
      " 0.57189277 0.58001625 0.57026807 0.58001625]\n"
     ]
    }
   ],
   "source": [
    "scores = cross_val_score(our_svm_model, X_train, y_train, cv=10)\n",
    "print('Cross-Validation Accuracy Scores for SVM', scores)"
   ]
  },
  {
   "cell_type": "markdown",
   "id": "34f82ffe",
   "metadata": {},
   "source": [
    "## After CV: Minimum, Mean, and Maximum Value for SVM"
   ]
  },
  {
   "cell_type": "code",
   "execution_count": 105,
   "id": "833c0f57",
   "metadata": {},
   "outputs": [
    {
     "data": {
      "text/plain": [
       "(0.560064935064935, 0.5745375156930803, 0.5909090909090909)"
      ]
     },
     "execution_count": 105,
     "metadata": {},
     "output_type": "execute_result"
    }
   ],
   "source": [
    "scores = pd.Series(scores)\n",
    "scores.min(), scores.mean(), scores.max()"
   ]
  },
  {
   "cell_type": "code",
   "execution_count": 106,
   "id": "5c73ac4b",
   "metadata": {},
   "outputs": [
    {
     "name": "stdout",
     "output_type": "stream",
     "text": [
      "Mean Accuracy Scores for XGB 0.5745375156930803\n"
     ]
    }
   ],
   "source": [
    "print('Mean Accuracy Scores for XGB', scores.mean())"
   ]
  }
 ],
 "metadata": {
  "kernelspec": {
   "display_name": "Python 3 (ipykernel)",
   "language": "python",
   "name": "python3"
  },
  "language_info": {
   "codemirror_mode": {
    "name": "ipython",
    "version": 3
   },
   "file_extension": ".py",
   "mimetype": "text/x-python",
   "name": "python",
   "nbconvert_exporter": "python",
   "pygments_lexer": "ipython3",
   "version": "3.9.7"
  }
 },
 "nbformat": 4,
 "nbformat_minor": 5
}
